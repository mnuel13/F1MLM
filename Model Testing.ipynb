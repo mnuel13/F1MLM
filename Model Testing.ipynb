{
 "cells": [
  {
   "cell_type": "code",
   "execution_count": 1,
   "id": "f4ef4215",
   "metadata": {},
   "outputs": [],
   "source": [
    "import sqlite3\n",
    "\n",
    "import numpy as np\n",
    "import pandas as pd\n",
    "from sklearn.metrics import confusion_matrix, precision_score\n",
    "from sklearn.linear_model import LogisticRegression, LinearRegression\n",
    "from sklearn import svm\n",
    "from sklearn.preprocessing import StandardScaler, MinMaxScaler\n",
    "from sklearn.ensemble import RandomForestClassifier, RandomForestRegressor\n",
    "from sklearn.neural_network import MLPClassifier, MLPRegressor\n",
    "\n",
    "pd.set_option('display.max_columns', None)\n",
    "pd.set_option('display.max_rows', None)\n",
    "pd.set_option('display.max_colwidth', None)\n",
    "\n",
    "year_test = 2023"
   ]
  },
  {
   "cell_type": "markdown",
   "id": "4c1baaef",
   "metadata": {},
   "source": [
    "## Connect to Database\n",
    "create train and test data"
   ]
  },
  {
   "cell_type": "code",
   "execution_count": 2,
   "id": "a3a3e479",
   "metadata": {
    "scrolled": true
   },
   "outputs": [],
   "source": [
    "connection = sqlite3.connect('races.db')\n",
    "table_name = 'i_df_dum_table'\n",
    "query = f'SELECT * FROM \"{table_name}\"'\n",
    "data = pd.read_sql_query(query, connection)\n",
    "\n",
    "table_name = 'h_final_cleaned_table'\n",
    "query = f'SELECT * FROM \"{table_name}\"'\n",
    "info = pd.read_sql_query(query, connection)\n",
    "connection.close()\n",
    "\n",
    "data = data.reset_index(drop=True)\n",
    "\n",
    "df = data.copy()\n",
    "df.podium = df.podium.map(lambda x: 1 if x == 1 else 0)\n",
    "\n",
    "train = df[df.season < year_test]\n",
    "X_train = train.drop(['driver', 'podium'], axis = 1)\n",
    "y_train = train.podium\n",
    "\n",
    "scaler = StandardScaler()\n",
    "X_train = pd.DataFrame(scaler.fit_transform(X_train), columns = X_train.columns)"
   ]
  },
  {
   "cell_type": "markdown",
   "id": "949d1417",
   "metadata": {},
   "source": [
    "## Find right Params\n",
    "for the model to be the most accurate"
   ]
  },
  {
   "cell_type": "code",
   "execution_count": 3,
   "id": "76038c40",
   "metadata": {},
   "outputs": [],
   "source": [
    "# scoring function for classification\n",
    "\n",
    "def score_classification(model):\n",
    "    score = 0\n",
    "    for circuit in df[df.season == year_test]['round'].unique():\n",
    "\n",
    "        test = df[(df.season == year_test) & (df['round'] == circuit)]\n",
    "        X_test = test.drop(['driver', 'podium'], axis = 1)\n",
    "        y_test = test.podium\n",
    "\n",
    "        #scaling\n",
    "        X_test = pd.DataFrame(scaler.transform(X_test), columns = X_test.columns)\n",
    "\n",
    "        # make predictions\n",
    "        prediction_df = pd.DataFrame(model.predict_proba(X_test), columns = ['proba_0', 'proba_1'])\n",
    "        prediction_df['actual'] = y_test.reset_index(drop = True)\n",
    "        prediction_df.sort_values('proba_1', ascending = False, inplace = True)\n",
    "        prediction_df.reset_index(inplace = True, drop = True)\n",
    "        prediction_df['predicted'] = prediction_df.index\n",
    "        prediction_df['predicted'] = prediction_df.predicted.map(lambda x: 1 if x == 0 else 0)\n",
    "\n",
    "        score += precision_score(prediction_df.actual, prediction_df.predicted)\n",
    "\n",
    "    model_score = score / len(df[df.season == year_test]['round'].unique())\n",
    "    return model_score"
   ]
  },
  {
   "cell_type": "code",
   "execution_count": null,
   "id": "cef9a175",
   "metadata": {
    "scrolled": true
   },
   "outputs": [
    {
     "name": "stdout",
     "output_type": "stream",
     "text": [
      "Model Parameters: ((80, 20, 40, 5), 'identity', 'lbfgs', 0.0001)\n",
      "Model Score: 0.7857142857142857\n",
      "Model Parameters: ((80, 20, 40, 5), 'identity', 'lbfgs', 0.00020691380811147902)\n",
      "Model Score: 0.7857142857142857\n",
      "Model Parameters: ((80, 20, 40, 5), 'identity', 'lbfgs', 0.00042813323987193956)\n",
      "Model Score: 0.7857142857142857\n",
      "Model Parameters: ((80, 20, 40, 5), 'identity', 'lbfgs', 0.0008858667904100823)\n",
      "Model Score: 0.7857142857142857\n",
      "Model Parameters: ((80, 20, 40, 5), 'identity', 'lbfgs', 0.0018329807108324356)\n",
      "Model Score: 0.7857142857142857\n",
      "Model Parameters: ((80, 20, 40, 5), 'identity', 'lbfgs', 0.00379269019073225)\n",
      "Model Score: 0.7857142857142857\n",
      "Model Parameters: ((80, 20, 40, 5), 'identity', 'lbfgs', 0.007847599703514606)\n",
      "Model Score: 0.7857142857142857\n",
      "Model Parameters: ((80, 20, 40, 5), 'identity', 'lbfgs', 0.01623776739188721)\n",
      "Model Score: 0.7857142857142857\n",
      "Model Parameters: ((80, 20, 40, 5), 'identity', 'lbfgs', 0.03359818286283781)\n",
      "Model Score: 0.7857142857142857\n",
      "Model Parameters: ((80, 20, 40, 5), 'identity', 'lbfgs', 0.06951927961775606)\n",
      "Model Score: 0.7857142857142857\n",
      "Model Parameters: ((80, 20, 40, 5), 'identity', 'lbfgs', 0.14384498882876628)\n",
      "Model Score: 0.7857142857142857\n",
      "Model Parameters: ((80, 20, 40, 5), 'identity', 'lbfgs', 0.29763514416313164)\n",
      "Model Score: 0.7857142857142857\n"
     ]
    },
    {
     "name": "stderr",
     "output_type": "stream",
     "text": [
      "C:\\Users\\emanu\\miniconda3\\envs\\F1MLM\\lib\\site-packages\\sklearn\\neural_network\\_multilayer_perceptron.py:546: ConvergenceWarning: lbfgs failed to converge (status=1):\n",
      "STOP: TOTAL NO. of ITERATIONS REACHED LIMIT.\n",
      "\n",
      "Increase the number of iterations (max_iter) or scale the data as shown in:\n",
      "    https://scikit-learn.org/stable/modules/preprocessing.html\n",
      "  self.n_iter_ = _check_optimize_result(\"lbfgs\", opt_res, self.max_iter)\n"
     ]
    },
    {
     "name": "stdout",
     "output_type": "stream",
     "text": [
      "Model Parameters: ((80, 20, 40, 5), 'identity', 'lbfgs', 0.615848211066026)\n",
      "Model Score: 0.7857142857142857\n",
      "Model Parameters: ((80, 20, 40, 5), 'identity', 'lbfgs', 1.2742749857031321)\n",
      "Model Score: 0.7857142857142857\n",
      "Model Parameters: ((80, 20, 40, 5), 'identity', 'lbfgs', 2.6366508987303554)\n",
      "Model Score: 0.7857142857142857\n",
      "Model Parameters: ((80, 20, 40, 5), 'identity', 'lbfgs', 5.455594781168514)\n",
      "Model Score: 0.7857142857142857\n",
      "Model Parameters: ((80, 20, 40, 5), 'identity', 'lbfgs', 11.288378916846883)\n",
      "Model Score: 0.7857142857142857\n",
      "Model Parameters: ((80, 20, 40, 5), 'identity', 'lbfgs', 23.357214690901213)\n",
      "Model Score: 0.7857142857142857\n",
      "Model Parameters: ((80, 20, 40, 5), 'identity', 'lbfgs', 48.32930238571752)\n",
      "Model Score: 0.8571428571428571\n",
      "Model Parameters: ((80, 20, 40, 5), 'identity', 'lbfgs', 100.0)\n",
      "Model Score: 0.8571428571428571\n",
      "Model Parameters: ((80, 20, 40, 5), 'identity', 'sgd', 0.0001)\n",
      "Model Score: 0.7857142857142857\n",
      "Model Parameters: ((80, 20, 40, 5), 'identity', 'sgd', 0.00020691380811147902)\n",
      "Model Score: 0.7857142857142857\n",
      "Model Parameters: ((80, 20, 40, 5), 'identity', 'sgd', 0.00042813323987193956)\n",
      "Model Score: 0.7857142857142857\n",
      "Model Parameters: ((80, 20, 40, 5), 'identity', 'sgd', 0.0008858667904100823)\n",
      "Model Score: 0.7857142857142857\n",
      "Model Parameters: ((80, 20, 40, 5), 'identity', 'sgd', 0.0018329807108324356)\n",
      "Model Score: 0.7857142857142857\n",
      "Model Parameters: ((80, 20, 40, 5), 'identity', 'sgd', 0.00379269019073225)\n",
      "Model Score: 0.7857142857142857\n",
      "Model Parameters: ((80, 20, 40, 5), 'identity', 'sgd', 0.007847599703514606)\n",
      "Model Score: 0.7857142857142857\n",
      "Model Parameters: ((80, 20, 40, 5), 'identity', 'sgd', 0.01623776739188721)\n",
      "Model Score: 0.7857142857142857\n",
      "Model Parameters: ((80, 20, 40, 5), 'identity', 'sgd', 0.03359818286283781)\n",
      "Model Score: 0.7857142857142857\n",
      "Model Parameters: ((80, 20, 40, 5), 'identity', 'sgd', 0.06951927961775606)\n",
      "Model Score: 0.7857142857142857\n"
     ]
    },
    {
     "name": "stderr",
     "output_type": "stream",
     "text": [
      "C:\\Users\\emanu\\miniconda3\\envs\\F1MLM\\lib\\site-packages\\sklearn\\neural_network\\_multilayer_perceptron.py:691: ConvergenceWarning: Stochastic Optimizer: Maximum iterations (200) reached and the optimization hasn't converged yet.\n",
      "  warnings.warn(\n"
     ]
    },
    {
     "name": "stdout",
     "output_type": "stream",
     "text": [
      "Model Parameters: ((80, 20, 40, 5), 'identity', 'sgd', 0.14384498882876628)\n",
      "Model Score: 0.7857142857142857\n"
     ]
    },
    {
     "name": "stderr",
     "output_type": "stream",
     "text": [
      "C:\\Users\\emanu\\miniconda3\\envs\\F1MLM\\lib\\site-packages\\sklearn\\neural_network\\_multilayer_perceptron.py:691: ConvergenceWarning: Stochastic Optimizer: Maximum iterations (200) reached and the optimization hasn't converged yet.\n",
      "  warnings.warn(\n"
     ]
    },
    {
     "name": "stdout",
     "output_type": "stream",
     "text": [
      "Model Parameters: ((80, 20, 40, 5), 'identity', 'sgd', 0.29763514416313164)\n",
      "Model Score: 0.7857142857142857\n"
     ]
    },
    {
     "name": "stderr",
     "output_type": "stream",
     "text": [
      "C:\\Users\\emanu\\miniconda3\\envs\\F1MLM\\lib\\site-packages\\sklearn\\neural_network\\_multilayer_perceptron.py:691: ConvergenceWarning: Stochastic Optimizer: Maximum iterations (200) reached and the optimization hasn't converged yet.\n",
      "  warnings.warn(\n"
     ]
    },
    {
     "name": "stdout",
     "output_type": "stream",
     "text": [
      "Model Parameters: ((80, 20, 40, 5), 'identity', 'sgd', 0.615848211066026)\n",
      "Model Score: 0.7857142857142857\n"
     ]
    },
    {
     "name": "stderr",
     "output_type": "stream",
     "text": [
      "C:\\Users\\emanu\\miniconda3\\envs\\F1MLM\\lib\\site-packages\\sklearn\\neural_network\\_multilayer_perceptron.py:691: ConvergenceWarning: Stochastic Optimizer: Maximum iterations (200) reached and the optimization hasn't converged yet.\n",
      "  warnings.warn(\n"
     ]
    },
    {
     "name": "stdout",
     "output_type": "stream",
     "text": [
      "Model Parameters: ((80, 20, 40, 5), 'identity', 'sgd', 1.2742749857031321)\n",
      "Model Score: 0.8571428571428571\n"
     ]
    },
    {
     "name": "stderr",
     "output_type": "stream",
     "text": [
      "C:\\Users\\emanu\\miniconda3\\envs\\F1MLM\\lib\\site-packages\\sklearn\\neural_network\\_multilayer_perceptron.py:691: ConvergenceWarning: Stochastic Optimizer: Maximum iterations (200) reached and the optimization hasn't converged yet.\n",
      "  warnings.warn(\n"
     ]
    },
    {
     "name": "stdout",
     "output_type": "stream",
     "text": [
      "Model Parameters: ((80, 20, 40, 5), 'identity', 'sgd', 2.6366508987303554)\n",
      "Model Score: 0.8571428571428571\n",
      "Model Parameters: ((80, 20, 40, 5), 'identity', 'sgd', 5.455594781168514)\n",
      "Model Score: 0.9285714285714286\n",
      "Model Parameters: ((80, 20, 40, 5), 'identity', 'sgd', 11.288378916846883)\n",
      "Model Score: 0.7857142857142857\n",
      "Model Parameters: ((80, 20, 40, 5), 'identity', 'sgd', 23.357214690901213)\n",
      "Model Score: 0.7857142857142857\n",
      "Model Parameters: ((80, 20, 40, 5), 'identity', 'sgd', 48.32930238571752)\n",
      "Model Score: 0.6428571428571429\n",
      "Model Parameters: ((80, 20, 40, 5), 'identity', 'sgd', 100.0)\n",
      "Model Score: 0.6428571428571429\n",
      "Model Parameters: ((80, 20, 40, 5), 'identity', 'adam', 0.0001)\n",
      "Model Score: 0.7857142857142857\n",
      "Model Parameters: ((80, 20, 40, 5), 'identity', 'adam', 0.00020691380811147902)\n",
      "Model Score: 0.7857142857142857\n",
      "Model Parameters: ((80, 20, 40, 5), 'identity', 'adam', 0.00042813323987193956)\n",
      "Model Score: 0.7857142857142857\n",
      "Model Parameters: ((80, 20, 40, 5), 'identity', 'adam', 0.0008858667904100823)\n",
      "Model Score: 0.7857142857142857\n",
      "Model Parameters: ((80, 20, 40, 5), 'identity', 'adam', 0.0018329807108324356)\n",
      "Model Score: 0.7857142857142857\n",
      "Model Parameters: ((80, 20, 40, 5), 'identity', 'adam', 0.00379269019073225)\n",
      "Model Score: 0.7857142857142857\n",
      "Model Parameters: ((80, 20, 40, 5), 'identity', 'adam', 0.007847599703514606)\n",
      "Model Score: 0.7857142857142857\n",
      "Model Parameters: ((80, 20, 40, 5), 'identity', 'adam', 0.01623776739188721)\n",
      "Model Score: 0.7857142857142857\n",
      "Model Parameters: ((80, 20, 40, 5), 'identity', 'adam', 0.03359818286283781)\n",
      "Model Score: 0.7857142857142857\n",
      "Model Parameters: ((80, 20, 40, 5), 'identity', 'adam', 0.06951927961775606)\n",
      "Model Score: 0.7857142857142857\n",
      "Model Parameters: ((80, 20, 40, 5), 'identity', 'adam', 0.14384498882876628)\n",
      "Model Score: 0.8571428571428571\n",
      "Model Parameters: ((80, 20, 40, 5), 'identity', 'adam', 0.29763514416313164)\n",
      "Model Score: 0.8571428571428571\n",
      "Model Parameters: ((80, 20, 40, 5), 'identity', 'adam', 0.615848211066026)\n",
      "Model Score: 0.8571428571428571\n",
      "Model Parameters: ((80, 20, 40, 5), 'identity', 'adam', 1.2742749857031321)\n",
      "Model Score: 0.8571428571428571\n",
      "Model Parameters: ((80, 20, 40, 5), 'identity', 'adam', 2.6366508987303554)\n",
      "Model Score: 0.7857142857142857\n",
      "Model Parameters: ((80, 20, 40, 5), 'identity', 'adam', 5.455594781168514)\n",
      "Model Score: 0.8571428571428571\n",
      "Model Parameters: ((80, 20, 40, 5), 'identity', 'adam', 11.288378916846883)\n",
      "Model Score: 0.6428571428571429\n",
      "Model Parameters: ((80, 20, 40, 5), 'identity', 'adam', 23.357214690901213)\n",
      "Model Score: 0.6428571428571429\n",
      "Model Parameters: ((80, 20, 40, 5), 'identity', 'adam', 48.32930238571752)\n",
      "Model Score: 0.6428571428571429\n",
      "Model Parameters: ((80, 20, 40, 5), 'identity', 'adam', 100.0)\n",
      "Model Score: 0.6428571428571429\n",
      "Model Parameters: ((80, 20, 40, 5), 'logistic', 'lbfgs', 0.0001)\n",
      "Model Score: 0.07142857142857142\n",
      "Model Parameters: ((80, 20, 40, 5), 'logistic', 'lbfgs', 0.00020691380811147902)\n",
      "Model Score: 0.07142857142857142\n",
      "Model Parameters: ((80, 20, 40, 5), 'logistic', 'lbfgs', 0.00042813323987193956)\n",
      "Model Score: 0.07142857142857142\n",
      "Model Parameters: ((80, 20, 40, 5), 'logistic', 'lbfgs', 0.0008858667904100823)\n",
      "Model Score: 0.07142857142857142\n",
      "Model Parameters: ((80, 20, 40, 5), 'logistic', 'lbfgs', 0.0018329807108324356)\n",
      "Model Score: 0.07142857142857142\n",
      "Model Parameters: ((80, 20, 40, 5), 'logistic', 'lbfgs', 0.00379269019073225)\n",
      "Model Score: 0.07142857142857142\n",
      "Model Parameters: ((80, 20, 40, 5), 'logistic', 'lbfgs', 0.007847599703514606)\n",
      "Model Score: 0.07142857142857142\n",
      "Model Parameters: ((80, 20, 40, 5), 'logistic', 'lbfgs', 0.01623776739188721)\n",
      "Model Score: 0.07142857142857142\n",
      "Model Parameters: ((80, 20, 40, 5), 'logistic', 'lbfgs', 0.03359818286283781)\n",
      "Model Score: 0.07142857142857142\n",
      "Model Parameters: ((80, 20, 40, 5), 'logistic', 'lbfgs', 0.06951927961775606)\n",
      "Model Score: 0.07142857142857142\n",
      "Model Parameters: ((80, 20, 40, 5), 'logistic', 'lbfgs', 0.14384498882876628)\n",
      "Model Score: 0.07142857142857142\n",
      "Model Parameters: ((80, 20, 40, 5), 'logistic', 'lbfgs', 0.29763514416313164)\n",
      "Model Score: 0.07142857142857142\n",
      "Model Parameters: ((80, 20, 40, 5), 'logistic', 'lbfgs', 0.615848211066026)\n",
      "Model Score: 0.07142857142857142\n",
      "Model Parameters: ((80, 20, 40, 5), 'logistic', 'lbfgs', 1.2742749857031321)\n",
      "Model Score: 0.07142857142857142\n",
      "Model Parameters: ((80, 20, 40, 5), 'logistic', 'lbfgs', 2.6366508987303554)\n",
      "Model Score: 0.0\n",
      "Model Parameters: ((80, 20, 40, 5), 'logistic', 'lbfgs', 5.455594781168514)\n",
      "Model Score: 0.7857142857142857\n",
      "Model Parameters: ((80, 20, 40, 5), 'logistic', 'lbfgs', 11.288378916846883)\n",
      "Model Score: 0.0\n",
      "Model Parameters: ((80, 20, 40, 5), 'logistic', 'lbfgs', 23.357214690901213)\n",
      "Model Score: 0.5714285714285714\n",
      "Model Parameters: ((80, 20, 40, 5), 'logistic', 'lbfgs', 48.32930238571752)\n",
      "Model Score: 0.0\n",
      "Model Parameters: ((80, 20, 40, 5), 'logistic', 'lbfgs', 100.0)\n",
      "Model Score: 0.0\n",
      "Model Parameters: ((80, 20, 40, 5), 'logistic', 'sgd', 0.0001)\n",
      "Model Score: 0.14285714285714285\n",
      "Model Parameters: ((80, 20, 40, 5), 'logistic', 'sgd', 0.00020691380811147902)\n",
      "Model Score: 0.14285714285714285\n",
      "Model Parameters: ((80, 20, 40, 5), 'logistic', 'sgd', 0.00042813323987193956)\n",
      "Model Score: 0.14285714285714285\n",
      "Model Parameters: ((80, 20, 40, 5), 'logistic', 'sgd', 0.0008858667904100823)\n",
      "Model Score: 0.14285714285714285\n",
      "Model Parameters: ((80, 20, 40, 5), 'logistic', 'sgd', 0.0018329807108324356)\n",
      "Model Score: 0.14285714285714285\n",
      "Model Parameters: ((80, 20, 40, 5), 'logistic', 'sgd', 0.00379269019073225)\n",
      "Model Score: 0.14285714285714285\n",
      "Model Parameters: ((80, 20, 40, 5), 'logistic', 'sgd', 0.007847599703514606)\n",
      "Model Score: 0.07142857142857142\n",
      "Model Parameters: ((80, 20, 40, 5), 'logistic', 'sgd', 0.01623776739188721)\n",
      "Model Score: 0.07142857142857142\n",
      "Model Parameters: ((80, 20, 40, 5), 'logistic', 'sgd', 0.03359818286283781)\n",
      "Model Score: 0.07142857142857142\n",
      "Model Parameters: ((80, 20, 40, 5), 'logistic', 'sgd', 0.06951927961775606)\n",
      "Model Score: 0.07142857142857142\n",
      "Model Parameters: ((80, 20, 40, 5), 'logistic', 'sgd', 0.14384498882876628)\n",
      "Model Score: 0.07142857142857142\n",
      "Model Parameters: ((80, 20, 40, 5), 'logistic', 'sgd', 0.29763514416313164)\n",
      "Model Score: 0.07142857142857142\n"
     ]
    },
    {
     "name": "stderr",
     "output_type": "stream",
     "text": [
      "C:\\Users\\emanu\\miniconda3\\envs\\F1MLM\\lib\\site-packages\\sklearn\\neural_network\\_multilayer_perceptron.py:691: ConvergenceWarning: Stochastic Optimizer: Maximum iterations (200) reached and the optimization hasn't converged yet.\n",
      "  warnings.warn(\n"
     ]
    },
    {
     "name": "stdout",
     "output_type": "stream",
     "text": [
      "Model Parameters: ((80, 20, 40, 5), 'logistic', 'sgd', 0.615848211066026)\n",
      "Model Score: 0.14285714285714285\n"
     ]
    },
    {
     "name": "stderr",
     "output_type": "stream",
     "text": [
      "C:\\Users\\emanu\\miniconda3\\envs\\F1MLM\\lib\\site-packages\\sklearn\\neural_network\\_multilayer_perceptron.py:691: ConvergenceWarning: Stochastic Optimizer: Maximum iterations (200) reached and the optimization hasn't converged yet.\n",
      "  warnings.warn(\n"
     ]
    },
    {
     "name": "stdout",
     "output_type": "stream",
     "text": [
      "Model Parameters: ((80, 20, 40, 5), 'logistic', 'sgd', 1.2742749857031321)\n",
      "Model Score: 0.0\n"
     ]
    },
    {
     "name": "stderr",
     "output_type": "stream",
     "text": [
      "C:\\Users\\emanu\\miniconda3\\envs\\F1MLM\\lib\\site-packages\\sklearn\\neural_network\\_multilayer_perceptron.py:691: ConvergenceWarning: Stochastic Optimizer: Maximum iterations (200) reached and the optimization hasn't converged yet.\n",
      "  warnings.warn(\n"
     ]
    },
    {
     "name": "stdout",
     "output_type": "stream",
     "text": [
      "Model Parameters: ((80, 20, 40, 5), 'logistic', 'sgd', 2.6366508987303554)\n",
      "Model Score: 0.0\n",
      "Model Parameters: ((80, 20, 40, 5), 'logistic', 'sgd', 5.455594781168514)\n",
      "Model Score: 0.07142857142857142\n",
      "Model Parameters: ((80, 20, 40, 5), 'logistic', 'sgd', 11.288378916846883)\n",
      "Model Score: 0.2857142857142857\n",
      "Model Parameters: ((80, 20, 40, 5), 'logistic', 'sgd', 23.357214690901213)\n",
      "Model Score: 0.5714285714285714\n",
      "Model Parameters: ((80, 20, 40, 5), 'logistic', 'sgd', 48.32930238571752)\n",
      "Model Score: 0.6428571428571429\n",
      "Model Parameters: ((80, 20, 40, 5), 'logistic', 'sgd', 100.0)\n",
      "Model Score: 0.6428571428571429\n",
      "Model Parameters: ((80, 20, 40, 5), 'logistic', 'adam', 0.0001)\n",
      "Model Score: 0.7142857142857143\n"
     ]
    },
    {
     "name": "stderr",
     "output_type": "stream",
     "text": [
      "C:\\Users\\emanu\\miniconda3\\envs\\F1MLM\\lib\\site-packages\\sklearn\\neural_network\\_multilayer_perceptron.py:691: ConvergenceWarning: Stochastic Optimizer: Maximum iterations (200) reached and the optimization hasn't converged yet.\n",
      "  warnings.warn(\n"
     ]
    },
    {
     "name": "stdout",
     "output_type": "stream",
     "text": [
      "Model Parameters: ((80, 20, 40, 5), 'logistic', 'adam', 0.00020691380811147902)\n",
      "Model Score: 0.5\n"
     ]
    },
    {
     "name": "stderr",
     "output_type": "stream",
     "text": [
      "C:\\Users\\emanu\\miniconda3\\envs\\F1MLM\\lib\\site-packages\\sklearn\\neural_network\\_multilayer_perceptron.py:691: ConvergenceWarning: Stochastic Optimizer: Maximum iterations (200) reached and the optimization hasn't converged yet.\n",
      "  warnings.warn(\n"
     ]
    },
    {
     "name": "stdout",
     "output_type": "stream",
     "text": [
      "Model Parameters: ((80, 20, 40, 5), 'logistic', 'adam', 0.00042813323987193956)\n",
      "Model Score: 0.6428571428571429\n"
     ]
    },
    {
     "name": "stderr",
     "output_type": "stream",
     "text": [
      "C:\\Users\\emanu\\miniconda3\\envs\\F1MLM\\lib\\site-packages\\sklearn\\neural_network\\_multilayer_perceptron.py:691: ConvergenceWarning: Stochastic Optimizer: Maximum iterations (200) reached and the optimization hasn't converged yet.\n",
      "  warnings.warn(\n"
     ]
    },
    {
     "name": "stdout",
     "output_type": "stream",
     "text": [
      "Model Parameters: ((80, 20, 40, 5), 'logistic', 'adam', 0.0008858667904100823)\n",
      "Model Score: 0.5714285714285714\n"
     ]
    },
    {
     "name": "stderr",
     "output_type": "stream",
     "text": [
      "C:\\Users\\emanu\\miniconda3\\envs\\F1MLM\\lib\\site-packages\\sklearn\\neural_network\\_multilayer_perceptron.py:691: ConvergenceWarning: Stochastic Optimizer: Maximum iterations (200) reached and the optimization hasn't converged yet.\n",
      "  warnings.warn(\n"
     ]
    },
    {
     "name": "stdout",
     "output_type": "stream",
     "text": [
      "Model Parameters: ((80, 20, 40, 5), 'logistic', 'adam', 0.0018329807108324356)\n",
      "Model Score: 0.5714285714285714\n"
     ]
    },
    {
     "name": "stderr",
     "output_type": "stream",
     "text": [
      "C:\\Users\\emanu\\miniconda3\\envs\\F1MLM\\lib\\site-packages\\sklearn\\neural_network\\_multilayer_perceptron.py:691: ConvergenceWarning: Stochastic Optimizer: Maximum iterations (200) reached and the optimization hasn't converged yet.\n",
      "  warnings.warn(\n"
     ]
    },
    {
     "name": "stdout",
     "output_type": "stream",
     "text": [
      "Model Parameters: ((80, 20, 40, 5), 'logistic', 'adam', 0.00379269019073225)\n",
      "Model Score: 0.7857142857142857\n"
     ]
    },
    {
     "name": "stderr",
     "output_type": "stream",
     "text": [
      "C:\\Users\\emanu\\miniconda3\\envs\\F1MLM\\lib\\site-packages\\sklearn\\neural_network\\_multilayer_perceptron.py:691: ConvergenceWarning: Stochastic Optimizer: Maximum iterations (200) reached and the optimization hasn't converged yet.\n",
      "  warnings.warn(\n"
     ]
    },
    {
     "name": "stdout",
     "output_type": "stream",
     "text": [
      "Model Parameters: ((80, 20, 40, 5), 'logistic', 'adam', 0.007847599703514606)\n",
      "Model Score: 0.5714285714285714\n",
      "Model Parameters: ((80, 20, 40, 5), 'logistic', 'adam', 0.01623776739188721)\n",
      "Model Score: 0.8571428571428571\n",
      "Model Parameters: ((80, 20, 40, 5), 'logistic', 'adam', 0.03359818286283781)\n",
      "Model Score: 0.8571428571428571\n",
      "Model Parameters: ((80, 20, 40, 5), 'logistic', 'adam', 0.06951927961775606)\n",
      "Model Score: 0.8571428571428571\n",
      "Model Parameters: ((80, 20, 40, 5), 'logistic', 'adam', 0.14384498882876628)\n",
      "Model Score: 0.0\n",
      "Model Parameters: ((80, 20, 40, 5), 'logistic', 'adam', 0.29763514416313164)\n",
      "Model Score: 0.8571428571428571\n",
      "Model Parameters: ((80, 20, 40, 5), 'logistic', 'adam', 0.615848211066026)\n",
      "Model Score: 0.7142857142857143\n",
      "Model Parameters: ((80, 20, 40, 5), 'logistic', 'adam', 1.2742749857031321)\n",
      "Model Score: 0.5\n",
      "Model Parameters: ((80, 20, 40, 5), 'logistic', 'adam', 2.6366508987303554)\n",
      "Model Score: 0.14285714285714285\n",
      "Model Parameters: ((80, 20, 40, 5), 'logistic', 'adam', 5.455594781168514)\n",
      "Model Score: 0.6428571428571429\n",
      "Model Parameters: ((80, 20, 40, 5), 'logistic', 'adam', 11.288378916846883)\n",
      "Model Score: 0.6428571428571429\n",
      "Model Parameters: ((80, 20, 40, 5), 'logistic', 'adam', 23.357214690901213)\n",
      "Model Score: 0.6428571428571429\n",
      "Model Parameters: ((80, 20, 40, 5), 'logistic', 'adam', 48.32930238571752)\n",
      "Model Score: 0.6428571428571429\n",
      "Model Parameters: ((80, 20, 40, 5), 'logistic', 'adam', 100.0)\n",
      "Model Score: 0.6428571428571429\n",
      "Model Parameters: ((80, 20, 40, 5), 'tanh', 'lbfgs', 0.0001)\n",
      "Model Score: 0.5\n"
     ]
    },
    {
     "name": "stderr",
     "output_type": "stream",
     "text": [
      "C:\\Users\\emanu\\miniconda3\\envs\\F1MLM\\lib\\site-packages\\sklearn\\neural_network\\_multilayer_perceptron.py:546: ConvergenceWarning: lbfgs failed to converge (status=1):\n",
      "STOP: TOTAL NO. of ITERATIONS REACHED LIMIT.\n",
      "\n",
      "Increase the number of iterations (max_iter) or scale the data as shown in:\n",
      "    https://scikit-learn.org/stable/modules/preprocessing.html\n",
      "  self.n_iter_ = _check_optimize_result(\"lbfgs\", opt_res, self.max_iter)\n"
     ]
    },
    {
     "name": "stdout",
     "output_type": "stream",
     "text": [
      "Model Parameters: ((80, 20, 40, 5), 'tanh', 'lbfgs', 0.00020691380811147902)\n",
      "Model Score: 0.42857142857142855\n",
      "Model Parameters: ((80, 20, 40, 5), 'tanh', 'lbfgs', 0.00042813323987193956)\n",
      "Model Score: 0.5\n",
      "Model Parameters: ((80, 20, 40, 5), 'tanh', 'lbfgs', 0.0008858667904100823)\n",
      "Model Score: 0.42857142857142855\n"
     ]
    },
    {
     "name": "stderr",
     "output_type": "stream",
     "text": [
      "C:\\Users\\emanu\\miniconda3\\envs\\F1MLM\\lib\\site-packages\\sklearn\\neural_network\\_multilayer_perceptron.py:546: ConvergenceWarning: lbfgs failed to converge (status=1):\n",
      "STOP: TOTAL NO. of ITERATIONS REACHED LIMIT.\n",
      "\n",
      "Increase the number of iterations (max_iter) or scale the data as shown in:\n",
      "    https://scikit-learn.org/stable/modules/preprocessing.html\n",
      "  self.n_iter_ = _check_optimize_result(\"lbfgs\", opt_res, self.max_iter)\n"
     ]
    },
    {
     "name": "stdout",
     "output_type": "stream",
     "text": [
      "Model Parameters: ((80, 20, 40, 5), 'tanh', 'lbfgs', 0.0018329807108324356)\n",
      "Model Score: 0.35714285714285715\n",
      "Model Parameters: ((80, 20, 40, 5), 'tanh', 'lbfgs', 0.00379269019073225)\n",
      "Model Score: 0.42857142857142855\n",
      "Model Parameters: ((80, 20, 40, 5), 'tanh', 'lbfgs', 0.007847599703514606)\n",
      "Model Score: 0.5\n",
      "Model Parameters: ((80, 20, 40, 5), 'tanh', 'lbfgs', 0.01623776739188721)\n",
      "Model Score: 0.35714285714285715\n",
      "Model Parameters: ((80, 20, 40, 5), 'tanh', 'lbfgs', 0.03359818286283781)\n",
      "Model Score: 0.42857142857142855\n"
     ]
    },
    {
     "name": "stderr",
     "output_type": "stream",
     "text": [
      "C:\\Users\\emanu\\miniconda3\\envs\\F1MLM\\lib\\site-packages\\sklearn\\neural_network\\_multilayer_perceptron.py:546: ConvergenceWarning: lbfgs failed to converge (status=1):\n",
      "STOP: TOTAL NO. of ITERATIONS REACHED LIMIT.\n",
      "\n",
      "Increase the number of iterations (max_iter) or scale the data as shown in:\n",
      "    https://scikit-learn.org/stable/modules/preprocessing.html\n",
      "  self.n_iter_ = _check_optimize_result(\"lbfgs\", opt_res, self.max_iter)\n"
     ]
    },
    {
     "name": "stdout",
     "output_type": "stream",
     "text": [
      "Model Parameters: ((80, 20, 40, 5), 'tanh', 'lbfgs', 0.06951927961775606)\n",
      "Model Score: 0.42857142857142855\n"
     ]
    },
    {
     "name": "stderr",
     "output_type": "stream",
     "text": [
      "C:\\Users\\emanu\\miniconda3\\envs\\F1MLM\\lib\\site-packages\\sklearn\\neural_network\\_multilayer_perceptron.py:546: ConvergenceWarning: lbfgs failed to converge (status=1):\n",
      "STOP: TOTAL NO. of ITERATIONS REACHED LIMIT.\n",
      "\n",
      "Increase the number of iterations (max_iter) or scale the data as shown in:\n",
      "    https://scikit-learn.org/stable/modules/preprocessing.html\n",
      "  self.n_iter_ = _check_optimize_result(\"lbfgs\", opt_res, self.max_iter)\n"
     ]
    },
    {
     "name": "stdout",
     "output_type": "stream",
     "text": [
      "Model Parameters: ((80, 20, 40, 5), 'tanh', 'lbfgs', 0.14384498882876628)\n",
      "Model Score: 0.5\n"
     ]
    },
    {
     "name": "stderr",
     "output_type": "stream",
     "text": [
      "C:\\Users\\emanu\\miniconda3\\envs\\F1MLM\\lib\\site-packages\\sklearn\\neural_network\\_multilayer_perceptron.py:546: ConvergenceWarning: lbfgs failed to converge (status=1):\n",
      "STOP: TOTAL NO. of ITERATIONS REACHED LIMIT.\n",
      "\n",
      "Increase the number of iterations (max_iter) or scale the data as shown in:\n",
      "    https://scikit-learn.org/stable/modules/preprocessing.html\n",
      "  self.n_iter_ = _check_optimize_result(\"lbfgs\", opt_res, self.max_iter)\n"
     ]
    },
    {
     "name": "stdout",
     "output_type": "stream",
     "text": [
      "Model Parameters: ((80, 20, 40, 5), 'tanh', 'lbfgs', 0.29763514416313164)\n",
      "Model Score: 0.42857142857142855\n"
     ]
    },
    {
     "name": "stderr",
     "output_type": "stream",
     "text": [
      "C:\\Users\\emanu\\miniconda3\\envs\\F1MLM\\lib\\site-packages\\sklearn\\neural_network\\_multilayer_perceptron.py:546: ConvergenceWarning: lbfgs failed to converge (status=1):\n",
      "STOP: TOTAL NO. of ITERATIONS REACHED LIMIT.\n",
      "\n",
      "Increase the number of iterations (max_iter) or scale the data as shown in:\n",
      "    https://scikit-learn.org/stable/modules/preprocessing.html\n",
      "  self.n_iter_ = _check_optimize_result(\"lbfgs\", opt_res, self.max_iter)\n"
     ]
    },
    {
     "name": "stdout",
     "output_type": "stream",
     "text": [
      "Model Parameters: ((80, 20, 40, 5), 'tanh', 'lbfgs', 0.615848211066026)\n",
      "Model Score: 0.6428571428571429\n"
     ]
    },
    {
     "name": "stderr",
     "output_type": "stream",
     "text": [
      "C:\\Users\\emanu\\miniconda3\\envs\\F1MLM\\lib\\site-packages\\sklearn\\neural_network\\_multilayer_perceptron.py:546: ConvergenceWarning: lbfgs failed to converge (status=1):\n",
      "STOP: TOTAL NO. of ITERATIONS REACHED LIMIT.\n",
      "\n",
      "Increase the number of iterations (max_iter) or scale the data as shown in:\n",
      "    https://scikit-learn.org/stable/modules/preprocessing.html\n",
      "  self.n_iter_ = _check_optimize_result(\"lbfgs\", opt_res, self.max_iter)\n"
     ]
    },
    {
     "name": "stdout",
     "output_type": "stream",
     "text": [
      "Model Parameters: ((80, 20, 40, 5), 'tanh', 'lbfgs', 1.2742749857031321)\n",
      "Model Score: 0.5\n"
     ]
    },
    {
     "name": "stderr",
     "output_type": "stream",
     "text": [
      "C:\\Users\\emanu\\miniconda3\\envs\\F1MLM\\lib\\site-packages\\sklearn\\neural_network\\_multilayer_perceptron.py:546: ConvergenceWarning: lbfgs failed to converge (status=1):\n",
      "STOP: TOTAL NO. of ITERATIONS REACHED LIMIT.\n",
      "\n",
      "Increase the number of iterations (max_iter) or scale the data as shown in:\n",
      "    https://scikit-learn.org/stable/modules/preprocessing.html\n",
      "  self.n_iter_ = _check_optimize_result(\"lbfgs\", opt_res, self.max_iter)\n"
     ]
    },
    {
     "name": "stdout",
     "output_type": "stream",
     "text": [
      "Model Parameters: ((80, 20, 40, 5), 'tanh', 'lbfgs', 2.6366508987303554)\n",
      "Model Score: 0.5714285714285714\n"
     ]
    },
    {
     "name": "stderr",
     "output_type": "stream",
     "text": [
      "C:\\Users\\emanu\\miniconda3\\envs\\F1MLM\\lib\\site-packages\\sklearn\\neural_network\\_multilayer_perceptron.py:546: ConvergenceWarning: lbfgs failed to converge (status=1):\n",
      "STOP: TOTAL NO. of ITERATIONS REACHED LIMIT.\n",
      "\n",
      "Increase the number of iterations (max_iter) or scale the data as shown in:\n",
      "    https://scikit-learn.org/stable/modules/preprocessing.html\n",
      "  self.n_iter_ = _check_optimize_result(\"lbfgs\", opt_res, self.max_iter)\n"
     ]
    },
    {
     "name": "stdout",
     "output_type": "stream",
     "text": [
      "Model Parameters: ((80, 20, 40, 5), 'tanh', 'lbfgs', 5.455594781168514)\n",
      "Model Score: 0.5714285714285714\n"
     ]
    },
    {
     "name": "stderr",
     "output_type": "stream",
     "text": [
      "C:\\Users\\emanu\\miniconda3\\envs\\F1MLM\\lib\\site-packages\\sklearn\\neural_network\\_multilayer_perceptron.py:546: ConvergenceWarning: lbfgs failed to converge (status=1):\n",
      "STOP: TOTAL NO. of ITERATIONS REACHED LIMIT.\n",
      "\n",
      "Increase the number of iterations (max_iter) or scale the data as shown in:\n",
      "    https://scikit-learn.org/stable/modules/preprocessing.html\n",
      "  self.n_iter_ = _check_optimize_result(\"lbfgs\", opt_res, self.max_iter)\n"
     ]
    },
    {
     "name": "stdout",
     "output_type": "stream",
     "text": [
      "Model Parameters: ((80, 20, 40, 5), 'tanh', 'lbfgs', 11.288378916846883)\n",
      "Model Score: 0.6428571428571429\n"
     ]
    },
    {
     "name": "stderr",
     "output_type": "stream",
     "text": [
      "C:\\Users\\emanu\\miniconda3\\envs\\F1MLM\\lib\\site-packages\\sklearn\\neural_network\\_multilayer_perceptron.py:546: ConvergenceWarning: lbfgs failed to converge (status=1):\n",
      "STOP: TOTAL NO. of ITERATIONS REACHED LIMIT.\n",
      "\n",
      "Increase the number of iterations (max_iter) or scale the data as shown in:\n",
      "    https://scikit-learn.org/stable/modules/preprocessing.html\n",
      "  self.n_iter_ = _check_optimize_result(\"lbfgs\", opt_res, self.max_iter)\n"
     ]
    },
    {
     "name": "stdout",
     "output_type": "stream",
     "text": [
      "Model Parameters: ((80, 20, 40, 5), 'tanh', 'lbfgs', 23.357214690901213)\n",
      "Model Score: 0.42857142857142855\n"
     ]
    },
    {
     "name": "stderr",
     "output_type": "stream",
     "text": [
      "C:\\Users\\emanu\\miniconda3\\envs\\F1MLM\\lib\\site-packages\\sklearn\\neural_network\\_multilayer_perceptron.py:546: ConvergenceWarning: lbfgs failed to converge (status=1):\n",
      "STOP: TOTAL NO. of ITERATIONS REACHED LIMIT.\n",
      "\n",
      "Increase the number of iterations (max_iter) or scale the data as shown in:\n",
      "    https://scikit-learn.org/stable/modules/preprocessing.html\n",
      "  self.n_iter_ = _check_optimize_result(\"lbfgs\", opt_res, self.max_iter)\n"
     ]
    },
    {
     "name": "stdout",
     "output_type": "stream",
     "text": [
      "Model Parameters: ((80, 20, 40, 5), 'tanh', 'lbfgs', 48.32930238571752)\n",
      "Model Score: 0.7142857142857143\n",
      "Model Parameters: ((80, 20, 40, 5), 'tanh', 'lbfgs', 100.0)\n",
      "Model Score: 0.8571428571428571\n"
     ]
    },
    {
     "name": "stderr",
     "output_type": "stream",
     "text": [
      "C:\\Users\\emanu\\miniconda3\\envs\\F1MLM\\lib\\site-packages\\sklearn\\neural_network\\_multilayer_perceptron.py:691: ConvergenceWarning: Stochastic Optimizer: Maximum iterations (200) reached and the optimization hasn't converged yet.\n",
      "  warnings.warn(\n"
     ]
    },
    {
     "name": "stdout",
     "output_type": "stream",
     "text": [
      "Model Parameters: ((80, 20, 40, 5), 'tanh', 'sgd', 0.0001)\n",
      "Model Score: 0.7857142857142857\n"
     ]
    },
    {
     "name": "stderr",
     "output_type": "stream",
     "text": [
      "C:\\Users\\emanu\\miniconda3\\envs\\F1MLM\\lib\\site-packages\\sklearn\\neural_network\\_multilayer_perceptron.py:691: ConvergenceWarning: Stochastic Optimizer: Maximum iterations (200) reached and the optimization hasn't converged yet.\n",
      "  warnings.warn(\n"
     ]
    },
    {
     "name": "stdout",
     "output_type": "stream",
     "text": [
      "Model Parameters: ((80, 20, 40, 5), 'tanh', 'sgd', 0.00020691380811147902)\n",
      "Model Score: 0.7857142857142857\n"
     ]
    },
    {
     "name": "stderr",
     "output_type": "stream",
     "text": [
      "C:\\Users\\emanu\\miniconda3\\envs\\F1MLM\\lib\\site-packages\\sklearn\\neural_network\\_multilayer_perceptron.py:691: ConvergenceWarning: Stochastic Optimizer: Maximum iterations (200) reached and the optimization hasn't converged yet.\n",
      "  warnings.warn(\n"
     ]
    },
    {
     "name": "stdout",
     "output_type": "stream",
     "text": [
      "Model Parameters: ((80, 20, 40, 5), 'tanh', 'sgd', 0.00042813323987193956)\n",
      "Model Score: 0.7857142857142857\n"
     ]
    },
    {
     "name": "stderr",
     "output_type": "stream",
     "text": [
      "C:\\Users\\emanu\\miniconda3\\envs\\F1MLM\\lib\\site-packages\\sklearn\\neural_network\\_multilayer_perceptron.py:691: ConvergenceWarning: Stochastic Optimizer: Maximum iterations (200) reached and the optimization hasn't converged yet.\n",
      "  warnings.warn(\n"
     ]
    },
    {
     "name": "stdout",
     "output_type": "stream",
     "text": [
      "Model Parameters: ((80, 20, 40, 5), 'tanh', 'sgd', 0.0008858667904100823)\n",
      "Model Score: 0.7857142857142857\n"
     ]
    },
    {
     "name": "stderr",
     "output_type": "stream",
     "text": [
      "C:\\Users\\emanu\\miniconda3\\envs\\F1MLM\\lib\\site-packages\\sklearn\\neural_network\\_multilayer_perceptron.py:691: ConvergenceWarning: Stochastic Optimizer: Maximum iterations (200) reached and the optimization hasn't converged yet.\n",
      "  warnings.warn(\n"
     ]
    },
    {
     "name": "stdout",
     "output_type": "stream",
     "text": [
      "Model Parameters: ((80, 20, 40, 5), 'tanh', 'sgd', 0.0018329807108324356)\n",
      "Model Score: 0.7857142857142857\n"
     ]
    },
    {
     "name": "stderr",
     "output_type": "stream",
     "text": [
      "C:\\Users\\emanu\\miniconda3\\envs\\F1MLM\\lib\\site-packages\\sklearn\\neural_network\\_multilayer_perceptron.py:691: ConvergenceWarning: Stochastic Optimizer: Maximum iterations (200) reached and the optimization hasn't converged yet.\n",
      "  warnings.warn(\n"
     ]
    },
    {
     "name": "stdout",
     "output_type": "stream",
     "text": [
      "Model Parameters: ((80, 20, 40, 5), 'tanh', 'sgd', 0.00379269019073225)\n",
      "Model Score: 0.7857142857142857\n"
     ]
    },
    {
     "name": "stderr",
     "output_type": "stream",
     "text": [
      "C:\\Users\\emanu\\miniconda3\\envs\\F1MLM\\lib\\site-packages\\sklearn\\neural_network\\_multilayer_perceptron.py:691: ConvergenceWarning: Stochastic Optimizer: Maximum iterations (200) reached and the optimization hasn't converged yet.\n",
      "  warnings.warn(\n"
     ]
    },
    {
     "name": "stdout",
     "output_type": "stream",
     "text": [
      "Model Parameters: ((80, 20, 40, 5), 'tanh', 'sgd', 0.007847599703514606)\n",
      "Model Score: 0.7857142857142857\n"
     ]
    },
    {
     "name": "stderr",
     "output_type": "stream",
     "text": [
      "C:\\Users\\emanu\\miniconda3\\envs\\F1MLM\\lib\\site-packages\\sklearn\\neural_network\\_multilayer_perceptron.py:691: ConvergenceWarning: Stochastic Optimizer: Maximum iterations (200) reached and the optimization hasn't converged yet.\n",
      "  warnings.warn(\n"
     ]
    },
    {
     "name": "stdout",
     "output_type": "stream",
     "text": [
      "Model Parameters: ((80, 20, 40, 5), 'tanh', 'sgd', 0.01623776739188721)\n",
      "Model Score: 0.7857142857142857\n"
     ]
    },
    {
     "name": "stderr",
     "output_type": "stream",
     "text": [
      "C:\\Users\\emanu\\miniconda3\\envs\\F1MLM\\lib\\site-packages\\sklearn\\neural_network\\_multilayer_perceptron.py:691: ConvergenceWarning: Stochastic Optimizer: Maximum iterations (200) reached and the optimization hasn't converged yet.\n",
      "  warnings.warn(\n"
     ]
    },
    {
     "name": "stdout",
     "output_type": "stream",
     "text": [
      "Model Parameters: ((80, 20, 40, 5), 'tanh', 'sgd', 0.03359818286283781)\n",
      "Model Score: 0.7857142857142857\n"
     ]
    },
    {
     "name": "stderr",
     "output_type": "stream",
     "text": [
      "C:\\Users\\emanu\\miniconda3\\envs\\F1MLM\\lib\\site-packages\\sklearn\\neural_network\\_multilayer_perceptron.py:691: ConvergenceWarning: Stochastic Optimizer: Maximum iterations (200) reached and the optimization hasn't converged yet.\n",
      "  warnings.warn(\n"
     ]
    },
    {
     "name": "stdout",
     "output_type": "stream",
     "text": [
      "Model Parameters: ((80, 20, 40, 5), 'tanh', 'sgd', 0.06951927961775606)\n",
      "Model Score: 0.7142857142857143\n"
     ]
    },
    {
     "name": "stderr",
     "output_type": "stream",
     "text": [
      "C:\\Users\\emanu\\miniconda3\\envs\\F1MLM\\lib\\site-packages\\sklearn\\neural_network\\_multilayer_perceptron.py:691: ConvergenceWarning: Stochastic Optimizer: Maximum iterations (200) reached and the optimization hasn't converged yet.\n",
      "  warnings.warn(\n"
     ]
    },
    {
     "name": "stdout",
     "output_type": "stream",
     "text": [
      "Model Parameters: ((80, 20, 40, 5), 'tanh', 'sgd', 0.14384498882876628)\n",
      "Model Score: 0.7142857142857143\n"
     ]
    },
    {
     "name": "stderr",
     "output_type": "stream",
     "text": [
      "C:\\Users\\emanu\\miniconda3\\envs\\F1MLM\\lib\\site-packages\\sklearn\\neural_network\\_multilayer_perceptron.py:691: ConvergenceWarning: Stochastic Optimizer: Maximum iterations (200) reached and the optimization hasn't converged yet.\n",
      "  warnings.warn(\n"
     ]
    },
    {
     "name": "stdout",
     "output_type": "stream",
     "text": [
      "Model Parameters: ((80, 20, 40, 5), 'tanh', 'sgd', 0.29763514416313164)\n",
      "Model Score: 0.8571428571428571\n"
     ]
    },
    {
     "name": "stderr",
     "output_type": "stream",
     "text": [
      "C:\\Users\\emanu\\miniconda3\\envs\\F1MLM\\lib\\site-packages\\sklearn\\neural_network\\_multilayer_perceptron.py:691: ConvergenceWarning: Stochastic Optimizer: Maximum iterations (200) reached and the optimization hasn't converged yet.\n",
      "  warnings.warn(\n"
     ]
    },
    {
     "name": "stdout",
     "output_type": "stream",
     "text": [
      "Model Parameters: ((80, 20, 40, 5), 'tanh', 'sgd', 0.615848211066026)\n",
      "Model Score: 0.7857142857142857\n"
     ]
    },
    {
     "name": "stderr",
     "output_type": "stream",
     "text": [
      "C:\\Users\\emanu\\miniconda3\\envs\\F1MLM\\lib\\site-packages\\sklearn\\neural_network\\_multilayer_perceptron.py:691: ConvergenceWarning: Stochastic Optimizer: Maximum iterations (200) reached and the optimization hasn't converged yet.\n",
      "  warnings.warn(\n"
     ]
    },
    {
     "name": "stdout",
     "output_type": "stream",
     "text": [
      "Model Parameters: ((80, 20, 40, 5), 'tanh', 'sgd', 1.2742749857031321)\n",
      "Model Score: 0.7857142857142857\n"
     ]
    },
    {
     "name": "stderr",
     "output_type": "stream",
     "text": [
      "C:\\Users\\emanu\\miniconda3\\envs\\F1MLM\\lib\\site-packages\\sklearn\\neural_network\\_multilayer_perceptron.py:691: ConvergenceWarning: Stochastic Optimizer: Maximum iterations (200) reached and the optimization hasn't converged yet.\n",
      "  warnings.warn(\n"
     ]
    },
    {
     "name": "stdout",
     "output_type": "stream",
     "text": [
      "Model Parameters: ((80, 20, 40, 5), 'tanh', 'sgd', 2.6366508987303554)\n",
      "Model Score: 0.7857142857142857\n",
      "Model Parameters: ((80, 20, 40, 5), 'tanh', 'sgd', 5.455594781168514)\n",
      "Model Score: 0.8571428571428571\n",
      "Model Parameters: ((80, 20, 40, 5), 'tanh', 'sgd', 11.288378916846883)\n",
      "Model Score: 0.7857142857142857\n",
      "Model Parameters: ((80, 20, 40, 5), 'tanh', 'sgd', 23.357214690901213)\n",
      "Model Score: 0.8571428571428571\n",
      "Model Parameters: ((80, 20, 40, 5), 'tanh', 'sgd', 48.32930238571752)\n",
      "Model Score: 0.6428571428571429\n",
      "Model Parameters: ((80, 20, 40, 5), 'tanh', 'sgd', 100.0)\n",
      "Model Score: 0.6428571428571429\n",
      "Model Parameters: ((80, 20, 40, 5), 'tanh', 'adam', 0.0001)\n",
      "Model Score: 0.6428571428571429\n",
      "Model Parameters: ((80, 20, 40, 5), 'tanh', 'adam', 0.00020691380811147902)\n",
      "Model Score: 0.5714285714285714\n",
      "Model Parameters: ((80, 20, 40, 5), 'tanh', 'adam', 0.00042813323987193956)\n",
      "Model Score: 0.7142857142857143\n",
      "Model Parameters: ((80, 20, 40, 5), 'tanh', 'adam', 0.0008858667904100823)\n",
      "Model Score: 0.5\n",
      "Model Parameters: ((80, 20, 40, 5), 'tanh', 'adam', 0.0018329807108324356)\n",
      "Model Score: 0.5\n",
      "Model Parameters: ((80, 20, 40, 5), 'tanh', 'adam', 0.00379269019073225)\n",
      "Model Score: 0.5\n",
      "Model Parameters: ((80, 20, 40, 5), 'tanh', 'adam', 0.007847599703514606)\n",
      "Model Score: 0.5714285714285714\n",
      "Model Parameters: ((80, 20, 40, 5), 'tanh', 'adam', 0.01623776739188721)\n",
      "Model Score: 0.6428571428571429\n",
      "Model Parameters: ((80, 20, 40, 5), 'tanh', 'adam', 0.03359818286283781)\n",
      "Model Score: 0.5\n",
      "Model Parameters: ((80, 20, 40, 5), 'tanh', 'adam', 0.06951927961775606)\n",
      "Model Score: 0.5\n",
      "Model Parameters: ((80, 20, 40, 5), 'tanh', 'adam', 0.14384498882876628)\n",
      "Model Score: 0.6428571428571429\n",
      "Model Parameters: ((80, 20, 40, 5), 'tanh', 'adam', 0.29763514416313164)\n",
      "Model Score: 0.42857142857142855\n",
      "Model Parameters: ((80, 20, 40, 5), 'tanh', 'adam', 0.615848211066026)\n",
      "Model Score: 0.7857142857142857\n",
      "Model Parameters: ((80, 20, 40, 5), 'tanh', 'adam', 1.2742749857031321)\n",
      "Model Score: 0.8571428571428571\n",
      "Model Parameters: ((80, 20, 40, 5), 'tanh', 'adam', 2.6366508987303554)\n",
      "Model Score: 0.8571428571428571\n",
      "Model Parameters: ((80, 20, 40, 5), 'tanh', 'adam', 5.455594781168514)\n",
      "Model Score: 0.8571428571428571\n",
      "Model Parameters: ((80, 20, 40, 5), 'tanh', 'adam', 11.288378916846883)\n",
      "Model Score: 0.6428571428571429\n",
      "Model Parameters: ((80, 20, 40, 5), 'tanh', 'adam', 23.357214690901213)\n",
      "Model Score: 0.6428571428571429\n",
      "Model Parameters: ((80, 20, 40, 5), 'tanh', 'adam', 48.32930238571752)\n",
      "Model Score: 0.6428571428571429\n",
      "Model Parameters: ((80, 20, 40, 5), 'tanh', 'adam', 100.0)\n",
      "Model Score: 0.6428571428571429\n",
      "Model Parameters: ((80, 20, 40, 5), 'relu', 'lbfgs', 0.0001)\n",
      "Model Score: 0.5714285714285714\n",
      "Model Parameters: ((80, 20, 40, 5), 'relu', 'lbfgs', 0.00020691380811147902)\n",
      "Model Score: 0.5714285714285714\n",
      "Model Parameters: ((80, 20, 40, 5), 'relu', 'lbfgs', 0.00042813323987193956)\n",
      "Model Score: 0.5714285714285714\n",
      "Model Parameters: ((80, 20, 40, 5), 'relu', 'lbfgs', 0.0008858667904100823)\n",
      "Model Score: 0.5714285714285714\n",
      "Model Parameters: ((80, 20, 40, 5), 'relu', 'lbfgs', 0.0018329807108324356)\n",
      "Model Score: 0.5714285714285714\n",
      "Model Parameters: ((80, 20, 40, 5), 'relu', 'lbfgs', 0.00379269019073225)\n",
      "Model Score: 0.5714285714285714\n",
      "Model Parameters: ((80, 20, 40, 5), 'relu', 'lbfgs', 0.007847599703514606)\n",
      "Model Score: 0.5714285714285714\n",
      "Model Parameters: ((80, 20, 40, 5), 'relu', 'lbfgs', 0.01623776739188721)\n",
      "Model Score: 0.5714285714285714\n",
      "Model Parameters: ((80, 20, 40, 5), 'relu', 'lbfgs', 0.03359818286283781)\n",
      "Model Score: 0.5714285714285714\n",
      "Model Parameters: ((80, 20, 40, 5), 'relu', 'lbfgs', 0.06951927961775606)\n",
      "Model Score: 0.5714285714285714\n",
      "Model Parameters: ((80, 20, 40, 5), 'relu', 'lbfgs', 0.14384498882876628)\n",
      "Model Score: 0.5714285714285714\n",
      "Model Parameters: ((80, 20, 40, 5), 'relu', 'lbfgs', 0.29763514416313164)\n",
      "Model Score: 0.5714285714285714\n",
      "Model Parameters: ((80, 20, 40, 5), 'relu', 'lbfgs', 0.615848211066026)\n",
      "Model Score: 0.6428571428571429\n",
      "Model Parameters: ((80, 20, 40, 5), 'relu', 'lbfgs', 1.2742749857031321)\n",
      "Model Score: 0.5714285714285714\n",
      "Model Parameters: ((80, 20, 40, 5), 'relu', 'lbfgs', 2.6366508987303554)\n",
      "Model Score: 0.7857142857142857\n"
     ]
    },
    {
     "name": "stderr",
     "output_type": "stream",
     "text": [
      "C:\\Users\\emanu\\miniconda3\\envs\\F1MLM\\lib\\site-packages\\sklearn\\neural_network\\_multilayer_perceptron.py:546: ConvergenceWarning: lbfgs failed to converge (status=1):\n",
      "STOP: TOTAL NO. of ITERATIONS REACHED LIMIT.\n",
      "\n",
      "Increase the number of iterations (max_iter) or scale the data as shown in:\n",
      "    https://scikit-learn.org/stable/modules/preprocessing.html\n",
      "  self.n_iter_ = _check_optimize_result(\"lbfgs\", opt_res, self.max_iter)\n"
     ]
    },
    {
     "name": "stdout",
     "output_type": "stream",
     "text": [
      "Model Parameters: ((80, 20, 40, 5), 'relu', 'lbfgs', 5.455594781168514)\n",
      "Model Score: 0.5714285714285714\n"
     ]
    },
    {
     "name": "stderr",
     "output_type": "stream",
     "text": [
      "C:\\Users\\emanu\\miniconda3\\envs\\F1MLM\\lib\\site-packages\\sklearn\\neural_network\\_multilayer_perceptron.py:546: ConvergenceWarning: lbfgs failed to converge (status=1):\n",
      "STOP: TOTAL NO. of ITERATIONS REACHED LIMIT.\n",
      "\n",
      "Increase the number of iterations (max_iter) or scale the data as shown in:\n",
      "    https://scikit-learn.org/stable/modules/preprocessing.html\n",
      "  self.n_iter_ = _check_optimize_result(\"lbfgs\", opt_res, self.max_iter)\n"
     ]
    },
    {
     "name": "stdout",
     "output_type": "stream",
     "text": [
      "Model Parameters: ((80, 20, 40, 5), 'relu', 'lbfgs', 11.288378916846883)\n",
      "Model Score: 0.7857142857142857\n",
      "Model Parameters: ((80, 20, 40, 5), 'relu', 'lbfgs', 23.357214690901213)\n",
      "Model Score: 0.7142857142857143\n",
      "Model Parameters: ((80, 20, 40, 5), 'relu', 'lbfgs', 48.32930238571752)\n",
      "Model Score: 0.6428571428571429\n",
      "Model Parameters: ((80, 20, 40, 5), 'relu', 'lbfgs', 100.0)\n",
      "Model Score: 0.6428571428571429\n"
     ]
    },
    {
     "name": "stderr",
     "output_type": "stream",
     "text": [
      "C:\\Users\\emanu\\miniconda3\\envs\\F1MLM\\lib\\site-packages\\sklearn\\neural_network\\_multilayer_perceptron.py:691: ConvergenceWarning: Stochastic Optimizer: Maximum iterations (200) reached and the optimization hasn't converged yet.\n",
      "  warnings.warn(\n"
     ]
    },
    {
     "name": "stdout",
     "output_type": "stream",
     "text": [
      "Model Parameters: ((80, 20, 40, 5), 'relu', 'sgd', 0.0001)\n",
      "Model Score: 0.7142857142857143\n"
     ]
    },
    {
     "name": "stderr",
     "output_type": "stream",
     "text": [
      "C:\\Users\\emanu\\miniconda3\\envs\\F1MLM\\lib\\site-packages\\sklearn\\neural_network\\_multilayer_perceptron.py:691: ConvergenceWarning: Stochastic Optimizer: Maximum iterations (200) reached and the optimization hasn't converged yet.\n",
      "  warnings.warn(\n"
     ]
    },
    {
     "name": "stdout",
     "output_type": "stream",
     "text": [
      "Model Parameters: ((80, 20, 40, 5), 'relu', 'sgd', 0.00020691380811147902)\n",
      "Model Score: 0.7142857142857143\n"
     ]
    },
    {
     "name": "stderr",
     "output_type": "stream",
     "text": [
      "C:\\Users\\emanu\\miniconda3\\envs\\F1MLM\\lib\\site-packages\\sklearn\\neural_network\\_multilayer_perceptron.py:691: ConvergenceWarning: Stochastic Optimizer: Maximum iterations (200) reached and the optimization hasn't converged yet.\n",
      "  warnings.warn(\n"
     ]
    },
    {
     "name": "stdout",
     "output_type": "stream",
     "text": [
      "Model Parameters: ((80, 20, 40, 5), 'relu', 'sgd', 0.00042813323987193956)\n",
      "Model Score: 0.7142857142857143\n"
     ]
    },
    {
     "name": "stderr",
     "output_type": "stream",
     "text": [
      "C:\\Users\\emanu\\miniconda3\\envs\\F1MLM\\lib\\site-packages\\sklearn\\neural_network\\_multilayer_perceptron.py:691: ConvergenceWarning: Stochastic Optimizer: Maximum iterations (200) reached and the optimization hasn't converged yet.\n",
      "  warnings.warn(\n"
     ]
    },
    {
     "name": "stdout",
     "output_type": "stream",
     "text": [
      "Model Parameters: ((80, 20, 40, 5), 'relu', 'sgd', 0.0008858667904100823)\n",
      "Model Score: 0.7142857142857143\n"
     ]
    },
    {
     "name": "stderr",
     "output_type": "stream",
     "text": [
      "C:\\Users\\emanu\\miniconda3\\envs\\F1MLM\\lib\\site-packages\\sklearn\\neural_network\\_multilayer_perceptron.py:691: ConvergenceWarning: Stochastic Optimizer: Maximum iterations (200) reached and the optimization hasn't converged yet.\n",
      "  warnings.warn(\n"
     ]
    },
    {
     "name": "stdout",
     "output_type": "stream",
     "text": [
      "Model Parameters: ((80, 20, 40, 5), 'relu', 'sgd', 0.0018329807108324356)\n",
      "Model Score: 0.7142857142857143\n"
     ]
    },
    {
     "name": "stderr",
     "output_type": "stream",
     "text": [
      "C:\\Users\\emanu\\miniconda3\\envs\\F1MLM\\lib\\site-packages\\sklearn\\neural_network\\_multilayer_perceptron.py:691: ConvergenceWarning: Stochastic Optimizer: Maximum iterations (200) reached and the optimization hasn't converged yet.\n",
      "  warnings.warn(\n"
     ]
    },
    {
     "name": "stdout",
     "output_type": "stream",
     "text": [
      "Model Parameters: ((80, 20, 40, 5), 'relu', 'sgd', 0.00379269019073225)\n",
      "Model Score: 0.7142857142857143\n"
     ]
    },
    {
     "name": "stderr",
     "output_type": "stream",
     "text": [
      "C:\\Users\\emanu\\miniconda3\\envs\\F1MLM\\lib\\site-packages\\sklearn\\neural_network\\_multilayer_perceptron.py:691: ConvergenceWarning: Stochastic Optimizer: Maximum iterations (200) reached and the optimization hasn't converged yet.\n",
      "  warnings.warn(\n"
     ]
    },
    {
     "name": "stdout",
     "output_type": "stream",
     "text": [
      "Model Parameters: ((80, 20, 40, 5), 'relu', 'sgd', 0.007847599703514606)\n",
      "Model Score: 0.7142857142857143\n"
     ]
    },
    {
     "name": "stderr",
     "output_type": "stream",
     "text": [
      "C:\\Users\\emanu\\miniconda3\\envs\\F1MLM\\lib\\site-packages\\sklearn\\neural_network\\_multilayer_perceptron.py:691: ConvergenceWarning: Stochastic Optimizer: Maximum iterations (200) reached and the optimization hasn't converged yet.\n",
      "  warnings.warn(\n"
     ]
    },
    {
     "name": "stdout",
     "output_type": "stream",
     "text": [
      "Model Parameters: ((80, 20, 40, 5), 'relu', 'sgd', 0.01623776739188721)\n",
      "Model Score: 0.7142857142857143\n"
     ]
    },
    {
     "name": "stderr",
     "output_type": "stream",
     "text": [
      "C:\\Users\\emanu\\miniconda3\\envs\\F1MLM\\lib\\site-packages\\sklearn\\neural_network\\_multilayer_perceptron.py:691: ConvergenceWarning: Stochastic Optimizer: Maximum iterations (200) reached and the optimization hasn't converged yet.\n",
      "  warnings.warn(\n"
     ]
    },
    {
     "name": "stdout",
     "output_type": "stream",
     "text": [
      "Model Parameters: ((80, 20, 40, 5), 'relu', 'sgd', 0.03359818286283781)\n",
      "Model Score: 0.7142857142857143\n"
     ]
    },
    {
     "name": "stderr",
     "output_type": "stream",
     "text": [
      "C:\\Users\\emanu\\miniconda3\\envs\\F1MLM\\lib\\site-packages\\sklearn\\neural_network\\_multilayer_perceptron.py:691: ConvergenceWarning: Stochastic Optimizer: Maximum iterations (200) reached and the optimization hasn't converged yet.\n",
      "  warnings.warn(\n"
     ]
    },
    {
     "name": "stdout",
     "output_type": "stream",
     "text": [
      "Model Parameters: ((80, 20, 40, 5), 'relu', 'sgd', 0.06951927961775606)\n",
      "Model Score: 0.7142857142857143\n"
     ]
    },
    {
     "name": "stderr",
     "output_type": "stream",
     "text": [
      "C:\\Users\\emanu\\miniconda3\\envs\\F1MLM\\lib\\site-packages\\sklearn\\neural_network\\_multilayer_perceptron.py:691: ConvergenceWarning: Stochastic Optimizer: Maximum iterations (200) reached and the optimization hasn't converged yet.\n",
      "  warnings.warn(\n"
     ]
    },
    {
     "name": "stdout",
     "output_type": "stream",
     "text": [
      "Model Parameters: ((80, 20, 40, 5), 'relu', 'sgd', 0.14384498882876628)\n",
      "Model Score: 0.7142857142857143\n"
     ]
    },
    {
     "name": "stderr",
     "output_type": "stream",
     "text": [
      "C:\\Users\\emanu\\miniconda3\\envs\\F1MLM\\lib\\site-packages\\sklearn\\neural_network\\_multilayer_perceptron.py:691: ConvergenceWarning: Stochastic Optimizer: Maximum iterations (200) reached and the optimization hasn't converged yet.\n",
      "  warnings.warn(\n"
     ]
    },
    {
     "name": "stdout",
     "output_type": "stream",
     "text": [
      "Model Parameters: ((80, 20, 40, 5), 'relu', 'sgd', 0.29763514416313164)\n",
      "Model Score: 0.7857142857142857\n"
     ]
    },
    {
     "name": "stderr",
     "output_type": "stream",
     "text": [
      "C:\\Users\\emanu\\miniconda3\\envs\\F1MLM\\lib\\site-packages\\sklearn\\neural_network\\_multilayer_perceptron.py:691: ConvergenceWarning: Stochastic Optimizer: Maximum iterations (200) reached and the optimization hasn't converged yet.\n",
      "  warnings.warn(\n"
     ]
    },
    {
     "name": "stdout",
     "output_type": "stream",
     "text": [
      "Model Parameters: ((80, 20, 40, 5), 'relu', 'sgd', 0.615848211066026)\n",
      "Model Score: 0.7857142857142857\n"
     ]
    },
    {
     "name": "stderr",
     "output_type": "stream",
     "text": [
      "C:\\Users\\emanu\\miniconda3\\envs\\F1MLM\\lib\\site-packages\\sklearn\\neural_network\\_multilayer_perceptron.py:691: ConvergenceWarning: Stochastic Optimizer: Maximum iterations (200) reached and the optimization hasn't converged yet.\n",
      "  warnings.warn(\n"
     ]
    },
    {
     "name": "stdout",
     "output_type": "stream",
     "text": [
      "Model Parameters: ((80, 20, 40, 5), 'relu', 'sgd', 1.2742749857031321)\n",
      "Model Score: 0.8571428571428571\n"
     ]
    },
    {
     "name": "stderr",
     "output_type": "stream",
     "text": [
      "C:\\Users\\emanu\\miniconda3\\envs\\F1MLM\\lib\\site-packages\\sklearn\\neural_network\\_multilayer_perceptron.py:691: ConvergenceWarning: Stochastic Optimizer: Maximum iterations (200) reached and the optimization hasn't converged yet.\n",
      "  warnings.warn(\n"
     ]
    },
    {
     "name": "stdout",
     "output_type": "stream",
     "text": [
      "Model Parameters: ((80, 20, 40, 5), 'relu', 'sgd', 2.6366508987303554)\n",
      "Model Score: 0.5\n",
      "Model Parameters: ((80, 20, 40, 5), 'relu', 'sgd', 5.455594781168514)\n",
      "Model Score: 0.0\n",
      "Model Parameters: ((80, 20, 40, 5), 'relu', 'sgd', 11.288378916846883)\n",
      "Model Score: 0.0\n",
      "Model Parameters: ((80, 20, 40, 5), 'relu', 'sgd', 23.357214690901213)\n",
      "Model Score: 0.14285714285714285\n",
      "Model Parameters: ((80, 20, 40, 5), 'relu', 'sgd', 48.32930238571752)\n",
      "Model Score: 0.6428571428571429\n",
      "Model Parameters: ((80, 20, 40, 5), 'relu', 'sgd', 100.0)\n",
      "Model Score: 0.6428571428571429\n",
      "Model Parameters: ((80, 20, 40, 5), 'relu', 'adam', 0.0001)\n",
      "Model Score: 0.7142857142857143\n",
      "Model Parameters: ((80, 20, 40, 5), 'relu', 'adam', 0.00020691380811147902)\n",
      "Model Score: 0.5\n",
      "Model Parameters: ((80, 20, 40, 5), 'relu', 'adam', 0.00042813323987193956)\n",
      "Model Score: 0.7142857142857143\n",
      "Model Parameters: ((80, 20, 40, 5), 'relu', 'adam', 0.0008858667904100823)\n",
      "Model Score: 0.5\n",
      "Model Parameters: ((80, 20, 40, 5), 'relu', 'adam', 0.0018329807108324356)\n",
      "Model Score: 0.7142857142857143\n",
      "Model Parameters: ((80, 20, 40, 5), 'relu', 'adam', 0.00379269019073225)\n",
      "Model Score: 0.7142857142857143\n",
      "Model Parameters: ((80, 20, 40, 5), 'relu', 'adam', 0.007847599703514606)\n",
      "Model Score: 0.7142857142857143\n",
      "Model Parameters: ((80, 20, 40, 5), 'relu', 'adam', 0.01623776739188721)\n",
      "Model Score: 0.5714285714285714\n",
      "Model Parameters: ((80, 20, 40, 5), 'relu', 'adam', 0.03359818286283781)\n",
      "Model Score: 0.5714285714285714\n",
      "Model Parameters: ((80, 20, 40, 5), 'relu', 'adam', 0.06951927961775606)\n",
      "Model Score: 0.7142857142857143\n",
      "Model Parameters: ((80, 20, 40, 5), 'relu', 'adam', 0.14384498882876628)\n",
      "Model Score: 0.5714285714285714\n",
      "Model Parameters: ((80, 20, 40, 5), 'relu', 'adam', 0.29763514416313164)\n",
      "Model Score: 0.5\n",
      "Model Parameters: ((80, 20, 40, 5), 'relu', 'adam', 0.615848211066026)\n",
      "Model Score: 0.7857142857142857\n",
      "Model Parameters: ((80, 20, 40, 5), 'relu', 'adam', 1.2742749857031321)\n",
      "Model Score: 0.7857142857142857\n",
      "Model Parameters: ((80, 20, 40, 5), 'relu', 'adam', 2.6366508987303554)\n",
      "Model Score: 0.7857142857142857\n",
      "Model Parameters: ((80, 20, 40, 5), 'relu', 'adam', 5.455594781168514)\n",
      "Model Score: 0.8571428571428571\n",
      "Model Parameters: ((80, 20, 40, 5), 'relu', 'adam', 11.288378916846883)\n",
      "Model Score: 0.6428571428571429\n",
      "Model Parameters: ((80, 20, 40, 5), 'relu', 'adam', 23.357214690901213)\n",
      "Model Score: 0.6428571428571429\n",
      "Model Parameters: ((80, 20, 40, 5), 'relu', 'adam', 48.32930238571752)\n",
      "Model Score: 0.6428571428571429\n",
      "Model Parameters: ((80, 20, 40, 5), 'relu', 'adam', 100.0)\n",
      "Model Score: 0.6428571428571429\n",
      "Model Parameters: ((75, 25, 50, 10), 'identity', 'lbfgs', 0.0001)\n",
      "Model Score: 0.7857142857142857\n",
      "Model Parameters: ((75, 25, 50, 10), 'identity', 'lbfgs', 0.00020691380811147902)\n",
      "Model Score: 0.7857142857142857\n",
      "Model Parameters: ((75, 25, 50, 10), 'identity', 'lbfgs', 0.00042813323987193956)\n",
      "Model Score: 0.7857142857142857\n",
      "Model Parameters: ((75, 25, 50, 10), 'identity', 'lbfgs', 0.0008858667904100823)\n",
      "Model Score: 0.7857142857142857\n",
      "Model Parameters: ((75, 25, 50, 10), 'identity', 'lbfgs', 0.0018329807108324356)\n",
      "Model Score: 0.7857142857142857\n",
      "Model Parameters: ((75, 25, 50, 10), 'identity', 'lbfgs', 0.00379269019073225)\n",
      "Model Score: 0.7857142857142857\n",
      "Model Parameters: ((75, 25, 50, 10), 'identity', 'lbfgs', 0.007847599703514606)\n",
      "Model Score: 0.7857142857142857\n",
      "Model Parameters: ((75, 25, 50, 10), 'identity', 'lbfgs', 0.01623776739188721)\n",
      "Model Score: 0.7857142857142857\n",
      "Model Parameters: ((75, 25, 50, 10), 'identity', 'lbfgs', 0.03359818286283781)\n",
      "Model Score: 0.7857142857142857\n",
      "Model Parameters: ((75, 25, 50, 10), 'identity', 'lbfgs', 0.06951927961775606)\n",
      "Model Score: 0.7857142857142857\n",
      "Model Parameters: ((75, 25, 50, 10), 'identity', 'lbfgs', 0.14384498882876628)\n",
      "Model Score: 0.7857142857142857\n",
      "Model Parameters: ((75, 25, 50, 10), 'identity', 'lbfgs', 0.29763514416313164)\n",
      "Model Score: 0.7857142857142857\n",
      "Model Parameters: ((75, 25, 50, 10), 'identity', 'lbfgs', 0.615848211066026)\n",
      "Model Score: 0.7857142857142857\n",
      "Model Parameters: ((75, 25, 50, 10), 'identity', 'lbfgs', 1.2742749857031321)\n",
      "Model Score: 0.7857142857142857\n",
      "Model Parameters: ((75, 25, 50, 10), 'identity', 'lbfgs', 2.6366508987303554)\n",
      "Model Score: 0.7857142857142857\n",
      "Model Parameters: ((75, 25, 50, 10), 'identity', 'lbfgs', 5.455594781168514)\n",
      "Model Score: 0.7857142857142857\n",
      "Model Parameters: ((75, 25, 50, 10), 'identity', 'lbfgs', 11.288378916846883)\n",
      "Model Score: 0.7857142857142857\n",
      "Model Parameters: ((75, 25, 50, 10), 'identity', 'lbfgs', 23.357214690901213)\n",
      "Model Score: 0.7857142857142857\n",
      "Model Parameters: ((75, 25, 50, 10), 'identity', 'lbfgs', 48.32930238571752)\n",
      "Model Score: 0.8571428571428571\n",
      "Model Parameters: ((75, 25, 50, 10), 'identity', 'lbfgs', 100.0)\n",
      "Model Score: 0.8571428571428571\n",
      "Model Parameters: ((75, 25, 50, 10), 'identity', 'sgd', 0.0001)\n",
      "Model Score: 0.8571428571428571\n",
      "Model Parameters: ((75, 25, 50, 10), 'identity', 'sgd', 0.00020691380811147902)\n",
      "Model Score: 0.8571428571428571\n",
      "Model Parameters: ((75, 25, 50, 10), 'identity', 'sgd', 0.00042813323987193956)\n",
      "Model Score: 0.8571428571428571\n",
      "Model Parameters: ((75, 25, 50, 10), 'identity', 'sgd', 0.0008858667904100823)\n",
      "Model Score: 0.8571428571428571\n",
      "Model Parameters: ((75, 25, 50, 10), 'identity', 'sgd', 0.0018329807108324356)\n",
      "Model Score: 0.8571428571428571\n",
      "Model Parameters: ((75, 25, 50, 10), 'identity', 'sgd', 0.00379269019073225)\n",
      "Model Score: 0.8571428571428571\n",
      "Model Parameters: ((75, 25, 50, 10), 'identity', 'sgd', 0.007847599703514606)\n",
      "Model Score: 0.8571428571428571\n",
      "Model Parameters: ((75, 25, 50, 10), 'identity', 'sgd', 0.01623776739188721)\n",
      "Model Score: 0.8571428571428571\n",
      "Model Parameters: ((75, 25, 50, 10), 'identity', 'sgd', 0.03359818286283781)\n",
      "Model Score: 0.8571428571428571\n",
      "Model Parameters: ((75, 25, 50, 10), 'identity', 'sgd', 0.06951927961775606)\n",
      "Model Score: 0.8571428571428571\n"
     ]
    },
    {
     "name": "stderr",
     "output_type": "stream",
     "text": [
      "C:\\Users\\emanu\\miniconda3\\envs\\F1MLM\\lib\\site-packages\\sklearn\\neural_network\\_multilayer_perceptron.py:691: ConvergenceWarning: Stochastic Optimizer: Maximum iterations (200) reached and the optimization hasn't converged yet.\n",
      "  warnings.warn(\n"
     ]
    },
    {
     "name": "stdout",
     "output_type": "stream",
     "text": [
      "Model Parameters: ((75, 25, 50, 10), 'identity', 'sgd', 0.14384498882876628)\n",
      "Model Score: 0.7857142857142857\n"
     ]
    },
    {
     "name": "stderr",
     "output_type": "stream",
     "text": [
      "C:\\Users\\emanu\\miniconda3\\envs\\F1MLM\\lib\\site-packages\\sklearn\\neural_network\\_multilayer_perceptron.py:691: ConvergenceWarning: Stochastic Optimizer: Maximum iterations (200) reached and the optimization hasn't converged yet.\n",
      "  warnings.warn(\n"
     ]
    },
    {
     "name": "stdout",
     "output_type": "stream",
     "text": [
      "Model Parameters: ((75, 25, 50, 10), 'identity', 'sgd', 0.29763514416313164)\n",
      "Model Score: 0.7857142857142857\n"
     ]
    },
    {
     "name": "stderr",
     "output_type": "stream",
     "text": [
      "C:\\Users\\emanu\\miniconda3\\envs\\F1MLM\\lib\\site-packages\\sklearn\\neural_network\\_multilayer_perceptron.py:691: ConvergenceWarning: Stochastic Optimizer: Maximum iterations (200) reached and the optimization hasn't converged yet.\n",
      "  warnings.warn(\n"
     ]
    },
    {
     "name": "stdout",
     "output_type": "stream",
     "text": [
      "Model Parameters: ((75, 25, 50, 10), 'identity', 'sgd', 0.615848211066026)\n",
      "Model Score: 0.8571428571428571\n"
     ]
    },
    {
     "name": "stderr",
     "output_type": "stream",
     "text": [
      "C:\\Users\\emanu\\miniconda3\\envs\\F1MLM\\lib\\site-packages\\sklearn\\neural_network\\_multilayer_perceptron.py:691: ConvergenceWarning: Stochastic Optimizer: Maximum iterations (200) reached and the optimization hasn't converged yet.\n",
      "  warnings.warn(\n"
     ]
    },
    {
     "name": "stdout",
     "output_type": "stream",
     "text": [
      "Model Parameters: ((75, 25, 50, 10), 'identity', 'sgd', 1.2742749857031321)\n",
      "Model Score: 0.8571428571428571\n"
     ]
    },
    {
     "name": "stderr",
     "output_type": "stream",
     "text": [
      "C:\\Users\\emanu\\miniconda3\\envs\\F1MLM\\lib\\site-packages\\sklearn\\neural_network\\_multilayer_perceptron.py:691: ConvergenceWarning: Stochastic Optimizer: Maximum iterations (200) reached and the optimization hasn't converged yet.\n",
      "  warnings.warn(\n"
     ]
    },
    {
     "name": "stdout",
     "output_type": "stream",
     "text": [
      "Model Parameters: ((75, 25, 50, 10), 'identity', 'sgd', 2.6366508987303554)\n",
      "Model Score: 0.8571428571428571\n",
      "Model Parameters: ((75, 25, 50, 10), 'identity', 'sgd', 5.455594781168514)\n",
      "Model Score: 0.9285714285714286\n",
      "Model Parameters: ((75, 25, 50, 10), 'identity', 'sgd', 11.288378916846883)\n",
      "Model Score: 0.7857142857142857\n",
      "Model Parameters: ((75, 25, 50, 10), 'identity', 'sgd', 23.357214690901213)\n",
      "Model Score: 0.7857142857142857\n",
      "Model Parameters: ((75, 25, 50, 10), 'identity', 'sgd', 48.32930238571752)\n",
      "Model Score: 0.6428571428571429\n",
      "Model Parameters: ((75, 25, 50, 10), 'identity', 'sgd', 100.0)\n",
      "Model Score: 0.6428571428571429\n",
      "Model Parameters: ((75, 25, 50, 10), 'identity', 'adam', 0.0001)\n",
      "Model Score: 0.7857142857142857\n",
      "Model Parameters: ((75, 25, 50, 10), 'identity', 'adam', 0.00020691380811147902)\n",
      "Model Score: 0.7857142857142857\n",
      "Model Parameters: ((75, 25, 50, 10), 'identity', 'adam', 0.00042813323987193956)\n",
      "Model Score: 0.7857142857142857\n",
      "Model Parameters: ((75, 25, 50, 10), 'identity', 'adam', 0.0008858667904100823)\n",
      "Model Score: 0.7857142857142857\n",
      "Model Parameters: ((75, 25, 50, 10), 'identity', 'adam', 0.0018329807108324356)\n",
      "Model Score: 0.7857142857142857\n",
      "Model Parameters: ((75, 25, 50, 10), 'identity', 'adam', 0.00379269019073225)\n",
      "Model Score: 0.7857142857142857\n",
      "Model Parameters: ((75, 25, 50, 10), 'identity', 'adam', 0.007847599703514606)\n",
      "Model Score: 0.8571428571428571\n",
      "Model Parameters: ((75, 25, 50, 10), 'identity', 'adam', 0.01623776739188721)\n",
      "Model Score: 0.7857142857142857\n",
      "Model Parameters: ((75, 25, 50, 10), 'identity', 'adam', 0.03359818286283781)\n",
      "Model Score: 0.7857142857142857\n",
      "Model Parameters: ((75, 25, 50, 10), 'identity', 'adam', 0.06951927961775606)\n",
      "Model Score: 0.7857142857142857\n",
      "Model Parameters: ((75, 25, 50, 10), 'identity', 'adam', 0.14384498882876628)\n",
      "Model Score: 0.7857142857142857\n",
      "Model Parameters: ((75, 25, 50, 10), 'identity', 'adam', 0.29763514416313164)\n",
      "Model Score: 0.8571428571428571\n",
      "Model Parameters: ((75, 25, 50, 10), 'identity', 'adam', 0.615848211066026)\n",
      "Model Score: 0.8571428571428571\n",
      "Model Parameters: ((75, 25, 50, 10), 'identity', 'adam', 1.2742749857031321)\n",
      "Model Score: 0.8571428571428571\n",
      "Model Parameters: ((75, 25, 50, 10), 'identity', 'adam', 2.6366508987303554)\n",
      "Model Score: 0.7857142857142857\n",
      "Model Parameters: ((75, 25, 50, 10), 'identity', 'adam', 5.455594781168514)\n",
      "Model Score: 0.9285714285714286\n",
      "Model Parameters: ((75, 25, 50, 10), 'identity', 'adam', 11.288378916846883)\n",
      "Model Score: 0.7857142857142857\n",
      "Model Parameters: ((75, 25, 50, 10), 'identity', 'adam', 23.357214690901213)\n",
      "Model Score: 0.6428571428571429\n",
      "Model Parameters: ((75, 25, 50, 10), 'identity', 'adam', 48.32930238571752)\n",
      "Model Score: 0.6428571428571429\n",
      "Model Parameters: ((75, 25, 50, 10), 'identity', 'adam', 100.0)\n",
      "Model Score: 0.6428571428571429\n",
      "Model Parameters: ((75, 25, 50, 10), 'logistic', 'lbfgs', 0.0001)\n",
      "Model Score: 0.0\n",
      "Model Parameters: ((75, 25, 50, 10), 'logistic', 'lbfgs', 0.00020691380811147902)\n",
      "Model Score: 0.0\n",
      "Model Parameters: ((75, 25, 50, 10), 'logistic', 'lbfgs', 0.00042813323987193956)\n",
      "Model Score: 0.0\n",
      "Model Parameters: ((75, 25, 50, 10), 'logistic', 'lbfgs', 0.0008858667904100823)\n",
      "Model Score: 0.0\n",
      "Model Parameters: ((75, 25, 50, 10), 'logistic', 'lbfgs', 0.0018329807108324356)\n",
      "Model Score: 0.0\n",
      "Model Parameters: ((75, 25, 50, 10), 'logistic', 'lbfgs', 0.00379269019073225)\n",
      "Model Score: 0.0\n",
      "Model Parameters: ((75, 25, 50, 10), 'logistic', 'lbfgs', 0.007847599703514606)\n",
      "Model Score: 0.0\n",
      "Model Parameters: ((75, 25, 50, 10), 'logistic', 'lbfgs', 0.01623776739188721)\n",
      "Model Score: 0.0\n",
      "Model Parameters: ((75, 25, 50, 10), 'logistic', 'lbfgs', 0.03359818286283781)\n",
      "Model Score: 0.0\n",
      "Model Parameters: ((75, 25, 50, 10), 'logistic', 'lbfgs', 0.06951927961775606)\n",
      "Model Score: 0.0\n",
      "Model Parameters: ((75, 25, 50, 10), 'logistic', 'lbfgs', 0.14384498882876628)\n",
      "Model Score: 0.0\n",
      "Model Parameters: ((75, 25, 50, 10), 'logistic', 'lbfgs', 0.29763514416313164)\n",
      "Model Score: 0.0\n",
      "Model Parameters: ((75, 25, 50, 10), 'logistic', 'lbfgs', 0.615848211066026)\n",
      "Model Score: 0.0\n",
      "Model Parameters: ((75, 25, 50, 10), 'logistic', 'lbfgs', 1.2742749857031321)\n",
      "Model Score: 0.0\n",
      "Model Parameters: ((75, 25, 50, 10), 'logistic', 'lbfgs', 2.6366508987303554)\n",
      "Model Score: 0.7857142857142857\n",
      "Model Parameters: ((75, 25, 50, 10), 'logistic', 'lbfgs', 5.455594781168514)\n",
      "Model Score: 0.0\n",
      "Model Parameters: ((75, 25, 50, 10), 'logistic', 'lbfgs', 11.288378916846883)\n",
      "Model Score: 0.0\n",
      "Model Parameters: ((75, 25, 50, 10), 'logistic', 'lbfgs', 23.357214690901213)\n",
      "Model Score: 0.0\n",
      "Model Parameters: ((75, 25, 50, 10), 'logistic', 'lbfgs', 48.32930238571752)\n",
      "Model Score: 0.6428571428571429\n",
      "Model Parameters: ((75, 25, 50, 10), 'logistic', 'lbfgs', 100.0)\n",
      "Model Score: 0.6428571428571429\n",
      "Model Parameters: ((75, 25, 50, 10), 'logistic', 'sgd', 0.0001)\n",
      "Model Score: 0.0\n",
      "Model Parameters: ((75, 25, 50, 10), 'logistic', 'sgd', 0.00020691380811147902)\n",
      "Model Score: 0.0\n",
      "Model Parameters: ((75, 25, 50, 10), 'logistic', 'sgd', 0.00042813323987193956)\n",
      "Model Score: 0.0\n",
      "Model Parameters: ((75, 25, 50, 10), 'logistic', 'sgd', 0.0008858667904100823)\n",
      "Model Score: 0.0\n",
      "Model Parameters: ((75, 25, 50, 10), 'logistic', 'sgd', 0.0018329807108324356)\n",
      "Model Score: 0.0\n",
      "Model Parameters: ((75, 25, 50, 10), 'logistic', 'sgd', 0.00379269019073225)\n",
      "Model Score: 0.0\n",
      "Model Parameters: ((75, 25, 50, 10), 'logistic', 'sgd', 0.007847599703514606)\n",
      "Model Score: 0.0\n",
      "Model Parameters: ((75, 25, 50, 10), 'logistic', 'sgd', 0.01623776739188721)\n",
      "Model Score: 0.0\n",
      "Model Parameters: ((75, 25, 50, 10), 'logistic', 'sgd', 0.03359818286283781)\n",
      "Model Score: 0.0\n",
      "Model Parameters: ((75, 25, 50, 10), 'logistic', 'sgd', 0.06951927961775606)\n",
      "Model Score: 0.0\n",
      "Model Parameters: ((75, 25, 50, 10), 'logistic', 'sgd', 0.14384498882876628)\n",
      "Model Score: 0.0\n",
      "Model Parameters: ((75, 25, 50, 10), 'logistic', 'sgd', 0.29763514416313164)\n",
      "Model Score: 0.0\n"
     ]
    },
    {
     "name": "stderr",
     "output_type": "stream",
     "text": [
      "C:\\Users\\emanu\\miniconda3\\envs\\F1MLM\\lib\\site-packages\\sklearn\\neural_network\\_multilayer_perceptron.py:691: ConvergenceWarning: Stochastic Optimizer: Maximum iterations (200) reached and the optimization hasn't converged yet.\n",
      "  warnings.warn(\n"
     ]
    },
    {
     "name": "stdout",
     "output_type": "stream",
     "text": [
      "Model Parameters: ((75, 25, 50, 10), 'logistic', 'sgd', 0.615848211066026)\n",
      "Model Score: 0.0\n"
     ]
    },
    {
     "name": "stderr",
     "output_type": "stream",
     "text": [
      "C:\\Users\\emanu\\miniconda3\\envs\\F1MLM\\lib\\site-packages\\sklearn\\neural_network\\_multilayer_perceptron.py:691: ConvergenceWarning: Stochastic Optimizer: Maximum iterations (200) reached and the optimization hasn't converged yet.\n",
      "  warnings.warn(\n"
     ]
    },
    {
     "name": "stdout",
     "output_type": "stream",
     "text": [
      "Model Parameters: ((75, 25, 50, 10), 'logistic', 'sgd', 1.2742749857031321)\n",
      "Model Score: 0.0\n"
     ]
    },
    {
     "name": "stderr",
     "output_type": "stream",
     "text": [
      "C:\\Users\\emanu\\miniconda3\\envs\\F1MLM\\lib\\site-packages\\sklearn\\neural_network\\_multilayer_perceptron.py:691: ConvergenceWarning: Stochastic Optimizer: Maximum iterations (200) reached and the optimization hasn't converged yet.\n",
      "  warnings.warn(\n"
     ]
    },
    {
     "name": "stdout",
     "output_type": "stream",
     "text": [
      "Model Parameters: ((75, 25, 50, 10), 'logistic', 'sgd', 2.6366508987303554)\n",
      "Model Score: 0.0\n",
      "Model Parameters: ((75, 25, 50, 10), 'logistic', 'sgd', 5.455594781168514)\n",
      "Model Score: 0.14285714285714285\n",
      "Model Parameters: ((75, 25, 50, 10), 'logistic', 'sgd', 11.288378916846883)\n",
      "Model Score: 0.14285714285714285\n",
      "Model Parameters: ((75, 25, 50, 10), 'logistic', 'sgd', 23.357214690901213)\n",
      "Model Score: 0.6428571428571429\n",
      "Model Parameters: ((75, 25, 50, 10), 'logistic', 'sgd', 48.32930238571752)\n",
      "Model Score: 0.6428571428571429\n",
      "Model Parameters: ((75, 25, 50, 10), 'logistic', 'sgd', 100.0)\n",
      "Model Score: 0.6428571428571429\n",
      "Model Parameters: ((75, 25, 50, 10), 'logistic', 'adam', 0.0001)\n",
      "Model Score: 0.5714285714285714\n"
     ]
    },
    {
     "name": "stderr",
     "output_type": "stream",
     "text": [
      "C:\\Users\\emanu\\miniconda3\\envs\\F1MLM\\lib\\site-packages\\sklearn\\neural_network\\_multilayer_perceptron.py:691: ConvergenceWarning: Stochastic Optimizer: Maximum iterations (200) reached and the optimization hasn't converged yet.\n",
      "  warnings.warn(\n"
     ]
    },
    {
     "name": "stdout",
     "output_type": "stream",
     "text": [
      "Model Parameters: ((75, 25, 50, 10), 'logistic', 'adam', 0.00020691380811147902)\n",
      "Model Score: 0.7857142857142857\n"
     ]
    },
    {
     "name": "stderr",
     "output_type": "stream",
     "text": [
      "C:\\Users\\emanu\\miniconda3\\envs\\F1MLM\\lib\\site-packages\\sklearn\\neural_network\\_multilayer_perceptron.py:691: ConvergenceWarning: Stochastic Optimizer: Maximum iterations (200) reached and the optimization hasn't converged yet.\n",
      "  warnings.warn(\n"
     ]
    },
    {
     "name": "stdout",
     "output_type": "stream",
     "text": [
      "Model Parameters: ((75, 25, 50, 10), 'logistic', 'adam', 0.00042813323987193956)\n",
      "Model Score: 0.7857142857142857\n"
     ]
    },
    {
     "name": "stderr",
     "output_type": "stream",
     "text": [
      "C:\\Users\\emanu\\miniconda3\\envs\\F1MLM\\lib\\site-packages\\sklearn\\neural_network\\_multilayer_perceptron.py:691: ConvergenceWarning: Stochastic Optimizer: Maximum iterations (200) reached and the optimization hasn't converged yet.\n",
      "  warnings.warn(\n"
     ]
    },
    {
     "name": "stdout",
     "output_type": "stream",
     "text": [
      "Model Parameters: ((75, 25, 50, 10), 'logistic', 'adam', 0.0008858667904100823)\n",
      "Model Score: 0.7857142857142857\n"
     ]
    },
    {
     "name": "stderr",
     "output_type": "stream",
     "text": [
      "C:\\Users\\emanu\\miniconda3\\envs\\F1MLM\\lib\\site-packages\\sklearn\\neural_network\\_multilayer_perceptron.py:691: ConvergenceWarning: Stochastic Optimizer: Maximum iterations (200) reached and the optimization hasn't converged yet.\n",
      "  warnings.warn(\n"
     ]
    },
    {
     "name": "stdout",
     "output_type": "stream",
     "text": [
      "Model Parameters: ((75, 25, 50, 10), 'logistic', 'adam', 0.0018329807108324356)\n",
      "Model Score: 0.7142857142857143\n"
     ]
    },
    {
     "name": "stderr",
     "output_type": "stream",
     "text": [
      "C:\\Users\\emanu\\miniconda3\\envs\\F1MLM\\lib\\site-packages\\sklearn\\neural_network\\_multilayer_perceptron.py:691: ConvergenceWarning: Stochastic Optimizer: Maximum iterations (200) reached and the optimization hasn't converged yet.\n",
      "  warnings.warn(\n"
     ]
    },
    {
     "name": "stdout",
     "output_type": "stream",
     "text": [
      "Model Parameters: ((75, 25, 50, 10), 'logistic', 'adam', 0.00379269019073225)\n",
      "Model Score: 0.6428571428571429\n"
     ]
    },
    {
     "name": "stderr",
     "output_type": "stream",
     "text": [
      "C:\\Users\\emanu\\miniconda3\\envs\\F1MLM\\lib\\site-packages\\sklearn\\neural_network\\_multilayer_perceptron.py:691: ConvergenceWarning: Stochastic Optimizer: Maximum iterations (200) reached and the optimization hasn't converged yet.\n",
      "  warnings.warn(\n"
     ]
    },
    {
     "name": "stdout",
     "output_type": "stream",
     "text": [
      "Model Parameters: ((75, 25, 50, 10), 'logistic', 'adam', 0.007847599703514606)\n",
      "Model Score: 0.7857142857142857\n"
     ]
    },
    {
     "name": "stderr",
     "output_type": "stream",
     "text": [
      "C:\\Users\\emanu\\miniconda3\\envs\\F1MLM\\lib\\site-packages\\sklearn\\neural_network\\_multilayer_perceptron.py:691: ConvergenceWarning: Stochastic Optimizer: Maximum iterations (200) reached and the optimization hasn't converged yet.\n",
      "  warnings.warn(\n"
     ]
    },
    {
     "name": "stdout",
     "output_type": "stream",
     "text": [
      "Model Parameters: ((75, 25, 50, 10), 'logistic', 'adam', 0.01623776739188721)\n",
      "Model Score: 0.7142857142857143\n",
      "Model Parameters: ((75, 25, 50, 10), 'logistic', 'adam', 0.03359818286283781)\n",
      "Model Score: 0.7857142857142857\n",
      "Model Parameters: ((75, 25, 50, 10), 'logistic', 'adam', 0.06951927961775606)\n",
      "Model Score: 0.7857142857142857\n",
      "Model Parameters: ((75, 25, 50, 10), 'logistic', 'adam', 0.14384498882876628)\n",
      "Model Score: 0.7142857142857143\n",
      "Model Parameters: ((75, 25, 50, 10), 'logistic', 'adam', 0.29763514416313164)\n",
      "Model Score: 0.0\n",
      "Model Parameters: ((75, 25, 50, 10), 'logistic', 'adam', 0.615848211066026)\n",
      "Model Score: 0.6428571428571429\n",
      "Model Parameters: ((75, 25, 50, 10), 'logistic', 'adam', 1.2742749857031321)\n",
      "Model Score: 0.0\n",
      "Model Parameters: ((75, 25, 50, 10), 'logistic', 'adam', 2.6366508987303554)\n",
      "Model Score: 0.5\n",
      "Model Parameters: ((75, 25, 50, 10), 'logistic', 'adam', 5.455594781168514)\n",
      "Model Score: 0.6428571428571429\n",
      "Model Parameters: ((75, 25, 50, 10), 'logistic', 'adam', 11.288378916846883)\n",
      "Model Score: 0.6428571428571429\n",
      "Model Parameters: ((75, 25, 50, 10), 'logistic', 'adam', 23.357214690901213)\n",
      "Model Score: 0.6428571428571429\n",
      "Model Parameters: ((75, 25, 50, 10), 'logistic', 'adam', 48.32930238571752)\n",
      "Model Score: 0.6428571428571429\n",
      "Model Parameters: ((75, 25, 50, 10), 'logistic', 'adam', 100.0)\n",
      "Model Score: 0.6428571428571429\n"
     ]
    },
    {
     "name": "stderr",
     "output_type": "stream",
     "text": [
      "C:\\Users\\emanu\\miniconda3\\envs\\F1MLM\\lib\\site-packages\\sklearn\\neural_network\\_multilayer_perceptron.py:546: ConvergenceWarning: lbfgs failed to converge (status=1):\n",
      "STOP: TOTAL NO. of ITERATIONS REACHED LIMIT.\n",
      "\n",
      "Increase the number of iterations (max_iter) or scale the data as shown in:\n",
      "    https://scikit-learn.org/stable/modules/preprocessing.html\n",
      "  self.n_iter_ = _check_optimize_result(\"lbfgs\", opt_res, self.max_iter)\n"
     ]
    },
    {
     "name": "stdout",
     "output_type": "stream",
     "text": [
      "Model Parameters: ((75, 25, 50, 10), 'tanh', 'lbfgs', 0.0001)\n",
      "Model Score: 0.2857142857142857\n"
     ]
    },
    {
     "name": "stderr",
     "output_type": "stream",
     "text": [
      "C:\\Users\\emanu\\miniconda3\\envs\\F1MLM\\lib\\site-packages\\sklearn\\neural_network\\_multilayer_perceptron.py:546: ConvergenceWarning: lbfgs failed to converge (status=1):\n",
      "STOP: TOTAL NO. of ITERATIONS REACHED LIMIT.\n",
      "\n",
      "Increase the number of iterations (max_iter) or scale the data as shown in:\n",
      "    https://scikit-learn.org/stable/modules/preprocessing.html\n",
      "  self.n_iter_ = _check_optimize_result(\"lbfgs\", opt_res, self.max_iter)\n"
     ]
    },
    {
     "name": "stdout",
     "output_type": "stream",
     "text": [
      "Model Parameters: ((75, 25, 50, 10), 'tanh', 'lbfgs', 0.00020691380811147902)\n",
      "Model Score: 0.2857142857142857\n"
     ]
    },
    {
     "name": "stderr",
     "output_type": "stream",
     "text": [
      "C:\\Users\\emanu\\miniconda3\\envs\\F1MLM\\lib\\site-packages\\sklearn\\neural_network\\_multilayer_perceptron.py:546: ConvergenceWarning: lbfgs failed to converge (status=1):\n",
      "STOP: TOTAL NO. of ITERATIONS REACHED LIMIT.\n",
      "\n",
      "Increase the number of iterations (max_iter) or scale the data as shown in:\n",
      "    https://scikit-learn.org/stable/modules/preprocessing.html\n",
      "  self.n_iter_ = _check_optimize_result(\"lbfgs\", opt_res, self.max_iter)\n"
     ]
    },
    {
     "name": "stdout",
     "output_type": "stream",
     "text": [
      "Model Parameters: ((75, 25, 50, 10), 'tanh', 'lbfgs', 0.00042813323987193956)\n",
      "Model Score: 0.2857142857142857\n"
     ]
    },
    {
     "name": "stderr",
     "output_type": "stream",
     "text": [
      "C:\\Users\\emanu\\miniconda3\\envs\\F1MLM\\lib\\site-packages\\sklearn\\neural_network\\_multilayer_perceptron.py:546: ConvergenceWarning: lbfgs failed to converge (status=1):\n",
      "STOP: TOTAL NO. of ITERATIONS REACHED LIMIT.\n",
      "\n",
      "Increase the number of iterations (max_iter) or scale the data as shown in:\n",
      "    https://scikit-learn.org/stable/modules/preprocessing.html\n",
      "  self.n_iter_ = _check_optimize_result(\"lbfgs\", opt_res, self.max_iter)\n"
     ]
    },
    {
     "name": "stdout",
     "output_type": "stream",
     "text": [
      "Model Parameters: ((75, 25, 50, 10), 'tanh', 'lbfgs', 0.0008858667904100823)\n",
      "Model Score: 0.42857142857142855\n",
      "Model Parameters: ((75, 25, 50, 10), 'tanh', 'lbfgs', 0.0018329807108324356)\n",
      "Model Score: 0.21428571428571427\n"
     ]
    },
    {
     "name": "stderr",
     "output_type": "stream",
     "text": [
      "C:\\Users\\emanu\\miniconda3\\envs\\F1MLM\\lib\\site-packages\\sklearn\\neural_network\\_multilayer_perceptron.py:546: ConvergenceWarning: lbfgs failed to converge (status=1):\n",
      "STOP: TOTAL NO. of ITERATIONS REACHED LIMIT.\n",
      "\n",
      "Increase the number of iterations (max_iter) or scale the data as shown in:\n",
      "    https://scikit-learn.org/stable/modules/preprocessing.html\n",
      "  self.n_iter_ = _check_optimize_result(\"lbfgs\", opt_res, self.max_iter)\n"
     ]
    },
    {
     "name": "stdout",
     "output_type": "stream",
     "text": [
      "Model Parameters: ((75, 25, 50, 10), 'tanh', 'lbfgs', 0.00379269019073225)\n",
      "Model Score: 0.42857142857142855\n"
     ]
    },
    {
     "name": "stderr",
     "output_type": "stream",
     "text": [
      "C:\\Users\\emanu\\miniconda3\\envs\\F1MLM\\lib\\site-packages\\sklearn\\neural_network\\_multilayer_perceptron.py:546: ConvergenceWarning: lbfgs failed to converge (status=1):\n",
      "STOP: TOTAL NO. of ITERATIONS REACHED LIMIT.\n",
      "\n",
      "Increase the number of iterations (max_iter) or scale the data as shown in:\n",
      "    https://scikit-learn.org/stable/modules/preprocessing.html\n",
      "  self.n_iter_ = _check_optimize_result(\"lbfgs\", opt_res, self.max_iter)\n"
     ]
    },
    {
     "name": "stdout",
     "output_type": "stream",
     "text": [
      "Model Parameters: ((75, 25, 50, 10), 'tanh', 'lbfgs', 0.007847599703514606)\n",
      "Model Score: 0.42857142857142855\n"
     ]
    },
    {
     "name": "stderr",
     "output_type": "stream",
     "text": [
      "C:\\Users\\emanu\\miniconda3\\envs\\F1MLM\\lib\\site-packages\\sklearn\\neural_network\\_multilayer_perceptron.py:546: ConvergenceWarning: lbfgs failed to converge (status=1):\n",
      "STOP: TOTAL NO. of ITERATIONS REACHED LIMIT.\n",
      "\n",
      "Increase the number of iterations (max_iter) or scale the data as shown in:\n",
      "    https://scikit-learn.org/stable/modules/preprocessing.html\n",
      "  self.n_iter_ = _check_optimize_result(\"lbfgs\", opt_res, self.max_iter)\n"
     ]
    },
    {
     "name": "stdout",
     "output_type": "stream",
     "text": [
      "Model Parameters: ((75, 25, 50, 10), 'tanh', 'lbfgs', 0.01623776739188721)\n",
      "Model Score: 0.42857142857142855\n"
     ]
    },
    {
     "name": "stderr",
     "output_type": "stream",
     "text": [
      "C:\\Users\\emanu\\miniconda3\\envs\\F1MLM\\lib\\site-packages\\sklearn\\neural_network\\_multilayer_perceptron.py:546: ConvergenceWarning: lbfgs failed to converge (status=1):\n",
      "STOP: TOTAL NO. of ITERATIONS REACHED LIMIT.\n",
      "\n",
      "Increase the number of iterations (max_iter) or scale the data as shown in:\n",
      "    https://scikit-learn.org/stable/modules/preprocessing.html\n",
      "  self.n_iter_ = _check_optimize_result(\"lbfgs\", opt_res, self.max_iter)\n"
     ]
    },
    {
     "name": "stdout",
     "output_type": "stream",
     "text": [
      "Model Parameters: ((75, 25, 50, 10), 'tanh', 'lbfgs', 0.03359818286283781)\n",
      "Model Score: 0.35714285714285715\n"
     ]
    },
    {
     "name": "stderr",
     "output_type": "stream",
     "text": [
      "C:\\Users\\emanu\\miniconda3\\envs\\F1MLM\\lib\\site-packages\\sklearn\\neural_network\\_multilayer_perceptron.py:546: ConvergenceWarning: lbfgs failed to converge (status=1):\n",
      "STOP: TOTAL NO. of ITERATIONS REACHED LIMIT.\n",
      "\n",
      "Increase the number of iterations (max_iter) or scale the data as shown in:\n",
      "    https://scikit-learn.org/stable/modules/preprocessing.html\n",
      "  self.n_iter_ = _check_optimize_result(\"lbfgs\", opt_res, self.max_iter)\n"
     ]
    },
    {
     "name": "stdout",
     "output_type": "stream",
     "text": [
      "Model Parameters: ((75, 25, 50, 10), 'tanh', 'lbfgs', 0.06951927961775606)\n",
      "Model Score: 0.35714285714285715\n"
     ]
    },
    {
     "name": "stderr",
     "output_type": "stream",
     "text": [
      "C:\\Users\\emanu\\miniconda3\\envs\\F1MLM\\lib\\site-packages\\sklearn\\neural_network\\_multilayer_perceptron.py:546: ConvergenceWarning: lbfgs failed to converge (status=1):\n",
      "STOP: TOTAL NO. of ITERATIONS REACHED LIMIT.\n",
      "\n",
      "Increase the number of iterations (max_iter) or scale the data as shown in:\n",
      "    https://scikit-learn.org/stable/modules/preprocessing.html\n",
      "  self.n_iter_ = _check_optimize_result(\"lbfgs\", opt_res, self.max_iter)\n"
     ]
    },
    {
     "name": "stdout",
     "output_type": "stream",
     "text": [
      "Model Parameters: ((75, 25, 50, 10), 'tanh', 'lbfgs', 0.14384498882876628)\n",
      "Model Score: 0.35714285714285715\n"
     ]
    },
    {
     "name": "stderr",
     "output_type": "stream",
     "text": [
      "C:\\Users\\emanu\\miniconda3\\envs\\F1MLM\\lib\\site-packages\\sklearn\\neural_network\\_multilayer_perceptron.py:546: ConvergenceWarning: lbfgs failed to converge (status=1):\n",
      "STOP: TOTAL NO. of ITERATIONS REACHED LIMIT.\n",
      "\n",
      "Increase the number of iterations (max_iter) or scale the data as shown in:\n",
      "    https://scikit-learn.org/stable/modules/preprocessing.html\n",
      "  self.n_iter_ = _check_optimize_result(\"lbfgs\", opt_res, self.max_iter)\n"
     ]
    },
    {
     "name": "stdout",
     "output_type": "stream",
     "text": [
      "Model Parameters: ((75, 25, 50, 10), 'tanh', 'lbfgs', 0.29763514416313164)\n",
      "Model Score: 0.42857142857142855\n"
     ]
    },
    {
     "name": "stderr",
     "output_type": "stream",
     "text": [
      "C:\\Users\\emanu\\miniconda3\\envs\\F1MLM\\lib\\site-packages\\sklearn\\neural_network\\_multilayer_perceptron.py:546: ConvergenceWarning: lbfgs failed to converge (status=1):\n",
      "STOP: TOTAL NO. of ITERATIONS REACHED LIMIT.\n",
      "\n",
      "Increase the number of iterations (max_iter) or scale the data as shown in:\n",
      "    https://scikit-learn.org/stable/modules/preprocessing.html\n",
      "  self.n_iter_ = _check_optimize_result(\"lbfgs\", opt_res, self.max_iter)\n"
     ]
    },
    {
     "name": "stdout",
     "output_type": "stream",
     "text": [
      "Model Parameters: ((75, 25, 50, 10), 'tanh', 'lbfgs', 0.615848211066026)\n",
      "Model Score: 0.42857142857142855\n"
     ]
    },
    {
     "name": "stderr",
     "output_type": "stream",
     "text": [
      "C:\\Users\\emanu\\miniconda3\\envs\\F1MLM\\lib\\site-packages\\sklearn\\neural_network\\_multilayer_perceptron.py:546: ConvergenceWarning: lbfgs failed to converge (status=1):\n",
      "STOP: TOTAL NO. of ITERATIONS REACHED LIMIT.\n",
      "\n",
      "Increase the number of iterations (max_iter) or scale the data as shown in:\n",
      "    https://scikit-learn.org/stable/modules/preprocessing.html\n",
      "  self.n_iter_ = _check_optimize_result(\"lbfgs\", opt_res, self.max_iter)\n"
     ]
    },
    {
     "name": "stdout",
     "output_type": "stream",
     "text": [
      "Model Parameters: ((75, 25, 50, 10), 'tanh', 'lbfgs', 1.2742749857031321)\n",
      "Model Score: 0.5\n"
     ]
    },
    {
     "name": "stderr",
     "output_type": "stream",
     "text": [
      "C:\\Users\\emanu\\miniconda3\\envs\\F1MLM\\lib\\site-packages\\sklearn\\neural_network\\_multilayer_perceptron.py:546: ConvergenceWarning: lbfgs failed to converge (status=1):\n",
      "STOP: TOTAL NO. of ITERATIONS REACHED LIMIT.\n",
      "\n",
      "Increase the number of iterations (max_iter) or scale the data as shown in:\n",
      "    https://scikit-learn.org/stable/modules/preprocessing.html\n",
      "  self.n_iter_ = _check_optimize_result(\"lbfgs\", opt_res, self.max_iter)\n"
     ]
    },
    {
     "name": "stdout",
     "output_type": "stream",
     "text": [
      "Model Parameters: ((75, 25, 50, 10), 'tanh', 'lbfgs', 2.6366508987303554)\n",
      "Model Score: 0.5\n"
     ]
    },
    {
     "name": "stderr",
     "output_type": "stream",
     "text": [
      "C:\\Users\\emanu\\miniconda3\\envs\\F1MLM\\lib\\site-packages\\sklearn\\neural_network\\_multilayer_perceptron.py:546: ConvergenceWarning: lbfgs failed to converge (status=1):\n",
      "STOP: TOTAL NO. of ITERATIONS REACHED LIMIT.\n",
      "\n",
      "Increase the number of iterations (max_iter) or scale the data as shown in:\n",
      "    https://scikit-learn.org/stable/modules/preprocessing.html\n",
      "  self.n_iter_ = _check_optimize_result(\"lbfgs\", opt_res, self.max_iter)\n"
     ]
    },
    {
     "name": "stdout",
     "output_type": "stream",
     "text": [
      "Model Parameters: ((75, 25, 50, 10), 'tanh', 'lbfgs', 5.455594781168514)\n",
      "Model Score: 0.5\n"
     ]
    },
    {
     "name": "stderr",
     "output_type": "stream",
     "text": [
      "C:\\Users\\emanu\\miniconda3\\envs\\F1MLM\\lib\\site-packages\\sklearn\\neural_network\\_multilayer_perceptron.py:546: ConvergenceWarning: lbfgs failed to converge (status=1):\n",
      "STOP: TOTAL NO. of ITERATIONS REACHED LIMIT.\n",
      "\n",
      "Increase the number of iterations (max_iter) or scale the data as shown in:\n",
      "    https://scikit-learn.org/stable/modules/preprocessing.html\n",
      "  self.n_iter_ = _check_optimize_result(\"lbfgs\", opt_res, self.max_iter)\n"
     ]
    },
    {
     "name": "stdout",
     "output_type": "stream",
     "text": [
      "Model Parameters: ((75, 25, 50, 10), 'tanh', 'lbfgs', 11.288378916846883)\n",
      "Model Score: 0.42857142857142855\n"
     ]
    },
    {
     "name": "stderr",
     "output_type": "stream",
     "text": [
      "C:\\Users\\emanu\\miniconda3\\envs\\F1MLM\\lib\\site-packages\\sklearn\\neural_network\\_multilayer_perceptron.py:546: ConvergenceWarning: lbfgs failed to converge (status=1):\n",
      "STOP: TOTAL NO. of ITERATIONS REACHED LIMIT.\n",
      "\n",
      "Increase the number of iterations (max_iter) or scale the data as shown in:\n",
      "    https://scikit-learn.org/stable/modules/preprocessing.html\n",
      "  self.n_iter_ = _check_optimize_result(\"lbfgs\", opt_res, self.max_iter)\n"
     ]
    },
    {
     "name": "stdout",
     "output_type": "stream",
     "text": [
      "Model Parameters: ((75, 25, 50, 10), 'tanh', 'lbfgs', 23.357214690901213)\n",
      "Model Score: 0.6428571428571429\n"
     ]
    },
    {
     "name": "stderr",
     "output_type": "stream",
     "text": [
      "C:\\Users\\emanu\\miniconda3\\envs\\F1MLM\\lib\\site-packages\\sklearn\\neural_network\\_multilayer_perceptron.py:546: ConvergenceWarning: lbfgs failed to converge (status=1):\n",
      "STOP: TOTAL NO. of ITERATIONS REACHED LIMIT.\n",
      "\n",
      "Increase the number of iterations (max_iter) or scale the data as shown in:\n",
      "    https://scikit-learn.org/stable/modules/preprocessing.html\n",
      "  self.n_iter_ = _check_optimize_result(\"lbfgs\", opt_res, self.max_iter)\n"
     ]
    },
    {
     "name": "stdout",
     "output_type": "stream",
     "text": [
      "Model Parameters: ((75, 25, 50, 10), 'tanh', 'lbfgs', 48.32930238571752)\n",
      "Model Score: 0.8571428571428571\n",
      "Model Parameters: ((75, 25, 50, 10), 'tanh', 'lbfgs', 100.0)\n",
      "Model Score: 0.8571428571428571\n"
     ]
    },
    {
     "name": "stderr",
     "output_type": "stream",
     "text": [
      "C:\\Users\\emanu\\miniconda3\\envs\\F1MLM\\lib\\site-packages\\sklearn\\neural_network\\_multilayer_perceptron.py:691: ConvergenceWarning: Stochastic Optimizer: Maximum iterations (200) reached and the optimization hasn't converged yet.\n",
      "  warnings.warn(\n"
     ]
    },
    {
     "name": "stdout",
     "output_type": "stream",
     "text": [
      "Model Parameters: ((75, 25, 50, 10), 'tanh', 'sgd', 0.0001)\n",
      "Model Score: 0.7142857142857143\n"
     ]
    },
    {
     "name": "stderr",
     "output_type": "stream",
     "text": [
      "C:\\Users\\emanu\\miniconda3\\envs\\F1MLM\\lib\\site-packages\\sklearn\\neural_network\\_multilayer_perceptron.py:691: ConvergenceWarning: Stochastic Optimizer: Maximum iterations (200) reached and the optimization hasn't converged yet.\n",
      "  warnings.warn(\n"
     ]
    },
    {
     "name": "stdout",
     "output_type": "stream",
     "text": [
      "Model Parameters: ((75, 25, 50, 10), 'tanh', 'sgd', 0.00020691380811147902)\n",
      "Model Score: 0.7142857142857143\n"
     ]
    },
    {
     "name": "stderr",
     "output_type": "stream",
     "text": [
      "C:\\Users\\emanu\\miniconda3\\envs\\F1MLM\\lib\\site-packages\\sklearn\\neural_network\\_multilayer_perceptron.py:691: ConvergenceWarning: Stochastic Optimizer: Maximum iterations (200) reached and the optimization hasn't converged yet.\n",
      "  warnings.warn(\n"
     ]
    },
    {
     "name": "stdout",
     "output_type": "stream",
     "text": [
      "Model Parameters: ((75, 25, 50, 10), 'tanh', 'sgd', 0.00042813323987193956)\n",
      "Model Score: 0.7142857142857143\n"
     ]
    },
    {
     "name": "stderr",
     "output_type": "stream",
     "text": [
      "C:\\Users\\emanu\\miniconda3\\envs\\F1MLM\\lib\\site-packages\\sklearn\\neural_network\\_multilayer_perceptron.py:691: ConvergenceWarning: Stochastic Optimizer: Maximum iterations (200) reached and the optimization hasn't converged yet.\n",
      "  warnings.warn(\n"
     ]
    },
    {
     "name": "stdout",
     "output_type": "stream",
     "text": [
      "Model Parameters: ((75, 25, 50, 10), 'tanh', 'sgd', 0.0008858667904100823)\n",
      "Model Score: 0.7142857142857143\n"
     ]
    },
    {
     "name": "stderr",
     "output_type": "stream",
     "text": [
      "C:\\Users\\emanu\\miniconda3\\envs\\F1MLM\\lib\\site-packages\\sklearn\\neural_network\\_multilayer_perceptron.py:691: ConvergenceWarning: Stochastic Optimizer: Maximum iterations (200) reached and the optimization hasn't converged yet.\n",
      "  warnings.warn(\n"
     ]
    },
    {
     "name": "stdout",
     "output_type": "stream",
     "text": [
      "Model Parameters: ((75, 25, 50, 10), 'tanh', 'sgd', 0.0018329807108324356)\n",
      "Model Score: 0.7142857142857143\n"
     ]
    },
    {
     "name": "stderr",
     "output_type": "stream",
     "text": [
      "C:\\Users\\emanu\\miniconda3\\envs\\F1MLM\\lib\\site-packages\\sklearn\\neural_network\\_multilayer_perceptron.py:691: ConvergenceWarning: Stochastic Optimizer: Maximum iterations (200) reached and the optimization hasn't converged yet.\n",
      "  warnings.warn(\n"
     ]
    },
    {
     "name": "stdout",
     "output_type": "stream",
     "text": [
      "Model Parameters: ((75, 25, 50, 10), 'tanh', 'sgd', 0.00379269019073225)\n",
      "Model Score: 0.7142857142857143\n"
     ]
    },
    {
     "name": "stderr",
     "output_type": "stream",
     "text": [
      "C:\\Users\\emanu\\miniconda3\\envs\\F1MLM\\lib\\site-packages\\sklearn\\neural_network\\_multilayer_perceptron.py:691: ConvergenceWarning: Stochastic Optimizer: Maximum iterations (200) reached and the optimization hasn't converged yet.\n",
      "  warnings.warn(\n"
     ]
    },
    {
     "name": "stdout",
     "output_type": "stream",
     "text": [
      "Model Parameters: ((75, 25, 50, 10), 'tanh', 'sgd', 0.007847599703514606)\n",
      "Model Score: 0.7142857142857143\n"
     ]
    },
    {
     "name": "stderr",
     "output_type": "stream",
     "text": [
      "C:\\Users\\emanu\\miniconda3\\envs\\F1MLM\\lib\\site-packages\\sklearn\\neural_network\\_multilayer_perceptron.py:691: ConvergenceWarning: Stochastic Optimizer: Maximum iterations (200) reached and the optimization hasn't converged yet.\n",
      "  warnings.warn(\n"
     ]
    },
    {
     "name": "stdout",
     "output_type": "stream",
     "text": [
      "Model Parameters: ((75, 25, 50, 10), 'tanh', 'sgd', 0.01623776739188721)\n",
      "Model Score: 0.7142857142857143\n"
     ]
    },
    {
     "name": "stderr",
     "output_type": "stream",
     "text": [
      "C:\\Users\\emanu\\miniconda3\\envs\\F1MLM\\lib\\site-packages\\sklearn\\neural_network\\_multilayer_perceptron.py:691: ConvergenceWarning: Stochastic Optimizer: Maximum iterations (200) reached and the optimization hasn't converged yet.\n",
      "  warnings.warn(\n"
     ]
    },
    {
     "name": "stdout",
     "output_type": "stream",
     "text": [
      "Model Parameters: ((75, 25, 50, 10), 'tanh', 'sgd', 0.03359818286283781)\n",
      "Model Score: 0.7142857142857143\n"
     ]
    },
    {
     "name": "stderr",
     "output_type": "stream",
     "text": [
      "C:\\Users\\emanu\\miniconda3\\envs\\F1MLM\\lib\\site-packages\\sklearn\\neural_network\\_multilayer_perceptron.py:691: ConvergenceWarning: Stochastic Optimizer: Maximum iterations (200) reached and the optimization hasn't converged yet.\n",
      "  warnings.warn(\n"
     ]
    },
    {
     "name": "stdout",
     "output_type": "stream",
     "text": [
      "Model Parameters: ((75, 25, 50, 10), 'tanh', 'sgd', 0.06951927961775606)\n",
      "Model Score: 0.7142857142857143\n"
     ]
    },
    {
     "name": "stderr",
     "output_type": "stream",
     "text": [
      "C:\\Users\\emanu\\miniconda3\\envs\\F1MLM\\lib\\site-packages\\sklearn\\neural_network\\_multilayer_perceptron.py:691: ConvergenceWarning: Stochastic Optimizer: Maximum iterations (200) reached and the optimization hasn't converged yet.\n",
      "  warnings.warn(\n"
     ]
    },
    {
     "name": "stdout",
     "output_type": "stream",
     "text": [
      "Model Parameters: ((75, 25, 50, 10), 'tanh', 'sgd', 0.14384498882876628)\n",
      "Model Score: 0.7142857142857143\n"
     ]
    }
   ],
   "source": [
    "# Neural network\n",
    "comparison_dict ={'model':[],\n",
    "                  'params': [],\n",
    "                  'score': []}\n",
    "\n",
    "params={'hidden_layer_sizes': [(80,20,40,5), (75,25,50,10)], \n",
    "        'activation': ['identity', 'logistic', 'tanh', 'relu'], \n",
    "        'solver': ['lbfgs', 'sgd', 'adam'], \n",
    "        'alpha': np.logspace(-4,2,20)} \n",
    "\n",
    "\n",
    "for hidden_layer_sizes in params['hidden_layer_sizes']:\n",
    "    for activation in params['activation']:\n",
    "        for solver in params['solver']:\n",
    "            for alpha in params['alpha']:\n",
    "                model_params = (hidden_layer_sizes, activation, solver, alpha )\n",
    "                model = MLPClassifier(hidden_layer_sizes = hidden_layer_sizes,\n",
    "                                      activation = activation, solver = solver, alpha = alpha, random_state = 1)\n",
    "                model.fit(X_train, y_train)\n",
    "\n",
    "                model_score = score_classification(model)\n",
    "                \n",
    "                # Print the current model's parameters and score\n",
    "                print(f\"Model Parameters: {model_params}\")\n",
    "                print(f\"Model Score: {model_score}\")\n",
    "\n",
    "\n",
    "                comparison_dict['model'].append('neural_network_classifier')\n",
    "                comparison_dict['params'].append(model_params)\n",
    "                comparison_dict['score'].append(model_score)"
   ]
  },
  {
   "cell_type": "code",
   "execution_count": null,
   "id": "300f872d",
   "metadata": {},
   "outputs": [],
   "source": [
    "best_params = pd.DataFrame(comparison_dict)\n",
    "best_params[best_params['score'] == best_params['score'].max()]"
   ]
  },
  {
   "cell_type": "markdown",
   "id": "b05c89c3",
   "metadata": {},
   "source": [
    "## Use best Parameters found\n",
    "fit the final model and calculate model score"
   ]
  },
  {
   "cell_type": "code",
   "execution_count": null,
   "id": "d5f23c88",
   "metadata": {},
   "outputs": [],
   "source": [
    "# Train the final model with the best parameters on the entire training dataset\n",
    "final_model = MLPClassifier(hidden_layer_sizes=(80, 20, 40, 5),\n",
    "                            activation='identity',\n",
    "                            solver='sgd',\n",
    "                            alpha=1.2742749857031321,\n",
    "                            random_state=1)\n",
    "final_model.fit(X_train, y_train)"
   ]
  },
  {
   "cell_type": "code",
   "execution_count": null,
   "id": "166cab77",
   "metadata": {},
   "outputs": [],
   "source": [
    "# Train the final model with the best parameters on the entire training dataset\n",
    "final_model = MLPClassifier(hidden_layer_sizes=(80, 20, 40, 5),\n",
    "                            activation='identity',\n",
    "                            solver='lbfgs',\n",
    "                            alpha=0.007847599703514606,\n",
    "                            random_state=1)\n",
    "final_model.fit(X_train, y_train)"
   ]
  },
  {
   "cell_type": "code",
   "execution_count": null,
   "id": "8e8faee1",
   "metadata": {},
   "outputs": [],
   "source": [
    "# Train the final model with the best parameters on the entire training dataset\n",
    "final_model = MLPClassifier(hidden_layer_sizes=(75, 25, 50, 10),\n",
    "                            activation='identity',\n",
    "                            solver='lbfgs',\n",
    "                            alpha=0.01623776739188721,\n",
    "                            random_state=1)\n",
    "final_model.fit(X_train, y_train)"
   ]
  },
  {
   "cell_type": "code",
   "execution_count": null,
   "id": "dcde6a22",
   "metadata": {},
   "outputs": [],
   "source": [
    "# Define a function to evaluate the final model\n",
    "def evaluate_final_model(model):\n",
    "    model_score = score_classification(model)\n",
    "    return model_score"
   ]
  },
  {
   "cell_type": "code",
   "execution_count": null,
   "id": "a9483415",
   "metadata": {
    "scrolled": true
   },
   "outputs": [],
   "source": [
    "# Evaluate the final model and get the score\n",
    "final_model_score = evaluate_final_model(final_model)\n",
    "\n",
    "# Print or store the final_model_score\n",
    "print(f\"Final Model Score: {final_model_score}\")"
   ]
  },
  {
   "cell_type": "markdown",
   "id": "69b90c69",
   "metadata": {},
   "source": [
    "## Run Prediction"
   ]
  },
  {
   "cell_type": "code",
   "execution_count": null,
   "id": "26372e99",
   "metadata": {},
   "outputs": [],
   "source": [
    "def score_classification_with_predictions(model):\n",
    "    predictions_df_list = []  # To store predictions for each circuit\n",
    "    score = 0\n",
    "\n",
    "    for circuit in df[df.season == year_test]['round'].unique():\n",
    "        podium_pos = data[(data.season == year_test) & (data['round'] == circuit)]\n",
    "        test = df[(df.season == year_test) & (df['round'] == circuit)]\n",
    "        X_test = test.drop(['driver', 'podium'], axis=1)\n",
    "        y_test = test.podium\n",
    "\n",
    "        # Scaling\n",
    "        X_test = pd.DataFrame(scaler.transform(X_test), columns=X_test.columns)\n",
    "\n",
    "        # Make predictions\n",
    "        prediction_df = pd.DataFrame(model.predict_proba(X_test), columns=['proba_0', 'proba_1'])\n",
    "        prediction_df['actual'] = y_test.reset_index(drop=True)\n",
    "        prediction_df['driver'] = test.driver.reset_index(drop=True)\n",
    "        prediction_df['grid'] = test.grid.reset_index(drop=True)\n",
    "        prediction_df['podium'] = podium_pos.podium.reset_index(drop=True)\n",
    "        prediction_df.sort_values('proba_1', ascending=False, inplace=True)\n",
    "        prediction_df.reset_index(inplace=True, drop=True)\n",
    "        prediction_df['predicted'] = prediction_df.index\n",
    "#         prediction_df['predicted'] = prediction_df.predicted.map(lambda x: 1 if x == 0 else 0)\n",
    "        prediction_df['predicted'] = prediction_df['predicted'] + 1\n",
    "        # Append predictions_df to the list\n",
    "        predictions_df_list.append(prediction_df)\n",
    "\n",
    "        \n",
    "    # Concatenate all predictions DataFrames into one\n",
    "    predictions_df_final = pd.concat(predictions_df_list)\n",
    "    predictions_df_final = predictions_df_final[['driver', 'grid', 'podium', 'actual', 'predicted', 'proba_0', 'proba_1']]\n",
    "    head = info[info['season'] == year_test]\n",
    "    head = head[['season', 'round', 'circuit_id']]\n",
    "    head = head.reset_index(drop=True)\n",
    "    predictions_df_final = predictions_df_final.reset_index(drop=True)\n",
    "    predictions_df_final = pd.concat([head, predictions_df_final], axis=1)\n",
    "    \n",
    "\n",
    "    return  predictions_df_final"
   ]
  },
  {
   "cell_type": "code",
   "execution_count": null,
   "id": "91e7a49b",
   "metadata": {},
   "outputs": [],
   "source": [
    "# Evaluate the final model and get the score and predictions DataFrame\n",
    "final_predictions_df = score_classification_with_predictions(final_model)"
   ]
  },
  {
   "cell_type": "code",
   "execution_count": null,
   "id": "33464260",
   "metadata": {},
   "outputs": [],
   "source": [
    "# score on whole grid\n",
    "grid_score = pd.DataFrame()\n",
    "grid_score['actual'] = final_predictions_df['podium']\n",
    "grid_score['predicted'] = final_predictions_df['predicted']\n",
    "grid_score['actual_y'] = 1\n",
    "grid_score['pred_y'] = np.where(final_predictions_df['podium'] == final_predictions_df['predicted'], 1, 0) \n",
    "\n",
    "score = 0\n",
    "b = grid_score['pred_y']\n",
    "for x in b:\n",
    "    if x == 1:\n",
    "        score += 1\n",
    "score / len(b)\n",
    "    \n",
    "# precision_score(grid_score['actual_y'], grid_score['pred_y'])"
   ]
  },
  {
   "cell_type": "code",
   "execution_count": null,
   "id": "85bda296",
   "metadata": {},
   "outputs": [],
   "source": [
    "final_predictions_df[final_predictions_df['round'] == 14].drop(columns=['actual'])"
   ]
  },
  {
   "cell_type": "code",
   "execution_count": null,
   "id": "f26358cf",
   "metadata": {},
   "outputs": [],
   "source": [
    "final_predictions_df.drop(columns=['actual', 'grid'])"
   ]
  },
  {
   "cell_type": "code",
   "execution_count": null,
   "id": "6286b5cf",
   "metadata": {},
   "outputs": [],
   "source": []
  },
  {
   "cell_type": "code",
   "execution_count": null,
   "id": "fe382602",
   "metadata": {},
   "outputs": [],
   "source": []
  }
 ],
 "metadata": {
  "kernelspec": {
   "display_name": "Python 3 (ipykernel)",
   "language": "python",
   "name": "python3"
  },
  "language_info": {
   "codemirror_mode": {
    "name": "ipython",
    "version": 3
   },
   "file_extension": ".py",
   "mimetype": "text/x-python",
   "name": "python",
   "nbconvert_exporter": "python",
   "pygments_lexer": "ipython3",
   "version": "3.9.17"
  }
 },
 "nbformat": 4,
 "nbformat_minor": 5
}
